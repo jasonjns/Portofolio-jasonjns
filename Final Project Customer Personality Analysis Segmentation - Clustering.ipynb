{
 "cells": [
  {
   "cell_type": "code",
   "execution_count": 175,
   "metadata": {},
   "outputs": [],
   "source": [
    "import numpy as np\n",
    "import pandas as pd\n",
    "\n",
    "import matplotlib.pyplot as plt\n",
    "%matplotlib inline\n",
    "import seaborn as sns\n",
    "\n",
    "from sklearn.cluster import DBSCAN, MeanShift, KMeans, AgglomerativeClustering\n",
    "from sklearn.preprocessing import MinMaxScaler, StandardScaler\n",
    "from sklearn.metrics import silhouette_score\n",
    "\n",
    "# for the dendogram\n",
    "import scipy.cluster.hierarchy as sch"
   ]
  },
  {
   "cell_type": "markdown",
   "metadata": {},
   "source": [
    "# 1.About the Data\n",
    "<div style=\"text-align: justify\">\n",
    "The data used in the current report is called 'Customer Personality Analysis' from Kaggle. The dataset has data about the customer itself like year of birth and education, also how much the amount spent on certain type of product, how the customer respond to the promotion, and where the customer buy the company product. The data  has 2240 rows and 29 variables that also included Customer ID. Here is the description of almost all variables in the dataset:  </div>\n",
    "\n",
    "### People\n",
    "\n",
    "* ID: Customer's unique identifier\n",
    "* Year_Birth: Customer's birth year\n",
    "* Education: Customer's education level\n",
    "* Marital_Status: Customer's marital status\n",
    "* Income: Customer's yearly household income\n",
    "* Kidhome: Number of children in customer's household\n",
    "* Teenhome: Number of teenagers in customer's household\n",
    "* Dt_Customer: Date of customer's enrollment with the company\n",
    "* Recency: Number of days since customer's last purchase\n",
    "* Complain: 1 if the customer complained in the last 2 years, 0 otherwise\n",
    "\n",
    "### Products\n",
    "\n",
    "* MntWines: Amount spent on wine in last 2 years\n",
    "* MntFruits: Amount spent on fruits in last 2 years\n",
    "* MntMeatProducts: Amount spent on meat in last 2 years\n",
    "* MntFishProducts: Amount spent on fish in last 2 years\n",
    "* MntSweetProducts: Amount spent on sweets in last 2 years\n",
    "* MntGoldProds: Amount spent on gold in last 2 years\n",
    "\n",
    "### Promotion\n",
    "\n",
    "* NumDealsPurchases: Number of purchases made with a discount\n",
    "* AcceptedCmp1: 1 if customer accepted the offer in the 1st campaign, 0 otherwise\n",
    "* AcceptedCmp2: 1 if customer accepted the offer in the 2nd campaign, 0 otherwise\n",
    "* AcceptedCmp3: 1 if customer accepted the offer in the 3rd campaign, 0 otherwise\n",
    "* AcceptedCmp4: 1 if customer accepted the offer in the 4th campaign, 0 otherwise\n",
    "* AcceptedCmp5: 1 if customer accepted the offer in the 5th campaign, 0 otherwise\n",
    "* Response: 1 if customer accepted the offer in the last campaign, 0 otherwise\n",
    "\n",
    "### Place\n",
    "\n",
    "* NumWebPurchases: Number of purchases made through the company’s website\n",
    "* NumCatalogPurchases: Number of purchases made using a catalogue\n",
    "* NumStorePurchases: Number of purchases made directly in stores\n",
    "* NumWebVisitsMonth: Number of visits to company’s website in the last month\n",
    "\n",
    "Here is the links to the dataset https://www.kaggle.com/datasets/imakash3011/customer-personality-analysis."
   ]
  },
  {
   "cell_type": "code",
   "execution_count": 2,
   "metadata": {},
   "outputs": [
    {
     "data": {
      "text/html": [
       "<div>\n",
       "<style scoped>\n",
       "    .dataframe tbody tr th:only-of-type {\n",
       "        vertical-align: middle;\n",
       "    }\n",
       "\n",
       "    .dataframe tbody tr th {\n",
       "        vertical-align: top;\n",
       "    }\n",
       "\n",
       "    .dataframe thead th {\n",
       "        text-align: right;\n",
       "    }\n",
       "</style>\n",
       "<table border=\"1\" class=\"dataframe\">\n",
       "  <thead>\n",
       "    <tr style=\"text-align: right;\">\n",
       "      <th></th>\n",
       "      <th>ID</th>\n",
       "      <th>Year_Birth</th>\n",
       "      <th>Education</th>\n",
       "      <th>Marital_Status</th>\n",
       "      <th>Income</th>\n",
       "      <th>Kidhome</th>\n",
       "      <th>Teenhome</th>\n",
       "      <th>Dt_Customer</th>\n",
       "      <th>Recency</th>\n",
       "      <th>MntWines</th>\n",
       "      <th>...</th>\n",
       "      <th>NumWebVisitsMonth</th>\n",
       "      <th>AcceptedCmp3</th>\n",
       "      <th>AcceptedCmp4</th>\n",
       "      <th>AcceptedCmp5</th>\n",
       "      <th>AcceptedCmp1</th>\n",
       "      <th>AcceptedCmp2</th>\n",
       "      <th>Complain</th>\n",
       "      <th>Z_CostContact</th>\n",
       "      <th>Z_Revenue</th>\n",
       "      <th>Response</th>\n",
       "    </tr>\n",
       "  </thead>\n",
       "  <tbody>\n",
       "    <tr>\n",
       "      <th>0</th>\n",
       "      <td>5524</td>\n",
       "      <td>1957</td>\n",
       "      <td>Graduation</td>\n",
       "      <td>Single</td>\n",
       "      <td>58138.0</td>\n",
       "      <td>0</td>\n",
       "      <td>0</td>\n",
       "      <td>04-09-2012</td>\n",
       "      <td>58</td>\n",
       "      <td>635</td>\n",
       "      <td>...</td>\n",
       "      <td>7</td>\n",
       "      <td>0</td>\n",
       "      <td>0</td>\n",
       "      <td>0</td>\n",
       "      <td>0</td>\n",
       "      <td>0</td>\n",
       "      <td>0</td>\n",
       "      <td>3</td>\n",
       "      <td>11</td>\n",
       "      <td>1</td>\n",
       "    </tr>\n",
       "    <tr>\n",
       "      <th>1</th>\n",
       "      <td>2174</td>\n",
       "      <td>1954</td>\n",
       "      <td>Graduation</td>\n",
       "      <td>Single</td>\n",
       "      <td>46344.0</td>\n",
       "      <td>1</td>\n",
       "      <td>1</td>\n",
       "      <td>08-03-2014</td>\n",
       "      <td>38</td>\n",
       "      <td>11</td>\n",
       "      <td>...</td>\n",
       "      <td>5</td>\n",
       "      <td>0</td>\n",
       "      <td>0</td>\n",
       "      <td>0</td>\n",
       "      <td>0</td>\n",
       "      <td>0</td>\n",
       "      <td>0</td>\n",
       "      <td>3</td>\n",
       "      <td>11</td>\n",
       "      <td>0</td>\n",
       "    </tr>\n",
       "    <tr>\n",
       "      <th>2</th>\n",
       "      <td>4141</td>\n",
       "      <td>1965</td>\n",
       "      <td>Graduation</td>\n",
       "      <td>Together</td>\n",
       "      <td>71613.0</td>\n",
       "      <td>0</td>\n",
       "      <td>0</td>\n",
       "      <td>21-08-2013</td>\n",
       "      <td>26</td>\n",
       "      <td>426</td>\n",
       "      <td>...</td>\n",
       "      <td>4</td>\n",
       "      <td>0</td>\n",
       "      <td>0</td>\n",
       "      <td>0</td>\n",
       "      <td>0</td>\n",
       "      <td>0</td>\n",
       "      <td>0</td>\n",
       "      <td>3</td>\n",
       "      <td>11</td>\n",
       "      <td>0</td>\n",
       "    </tr>\n",
       "    <tr>\n",
       "      <th>3</th>\n",
       "      <td>6182</td>\n",
       "      <td>1984</td>\n",
       "      <td>Graduation</td>\n",
       "      <td>Together</td>\n",
       "      <td>26646.0</td>\n",
       "      <td>1</td>\n",
       "      <td>0</td>\n",
       "      <td>10-02-2014</td>\n",
       "      <td>26</td>\n",
       "      <td>11</td>\n",
       "      <td>...</td>\n",
       "      <td>6</td>\n",
       "      <td>0</td>\n",
       "      <td>0</td>\n",
       "      <td>0</td>\n",
       "      <td>0</td>\n",
       "      <td>0</td>\n",
       "      <td>0</td>\n",
       "      <td>3</td>\n",
       "      <td>11</td>\n",
       "      <td>0</td>\n",
       "    </tr>\n",
       "    <tr>\n",
       "      <th>4</th>\n",
       "      <td>5324</td>\n",
       "      <td>1981</td>\n",
       "      <td>PhD</td>\n",
       "      <td>Married</td>\n",
       "      <td>58293.0</td>\n",
       "      <td>1</td>\n",
       "      <td>0</td>\n",
       "      <td>19-01-2014</td>\n",
       "      <td>94</td>\n",
       "      <td>173</td>\n",
       "      <td>...</td>\n",
       "      <td>5</td>\n",
       "      <td>0</td>\n",
       "      <td>0</td>\n",
       "      <td>0</td>\n",
       "      <td>0</td>\n",
       "      <td>0</td>\n",
       "      <td>0</td>\n",
       "      <td>3</td>\n",
       "      <td>11</td>\n",
       "      <td>0</td>\n",
       "    </tr>\n",
       "  </tbody>\n",
       "</table>\n",
       "<p>5 rows × 29 columns</p>\n",
       "</div>"
      ],
      "text/plain": [
       "     ID  Year_Birth   Education Marital_Status   Income  Kidhome  Teenhome  \\\n",
       "0  5524        1957  Graduation         Single  58138.0        0         0   \n",
       "1  2174        1954  Graduation         Single  46344.0        1         1   \n",
       "2  4141        1965  Graduation       Together  71613.0        0         0   \n",
       "3  6182        1984  Graduation       Together  26646.0        1         0   \n",
       "4  5324        1981         PhD        Married  58293.0        1         0   \n",
       "\n",
       "  Dt_Customer  Recency  MntWines  ...  NumWebVisitsMonth  AcceptedCmp3  \\\n",
       "0  04-09-2012       58       635  ...                  7             0   \n",
       "1  08-03-2014       38        11  ...                  5             0   \n",
       "2  21-08-2013       26       426  ...                  4             0   \n",
       "3  10-02-2014       26        11  ...                  6             0   \n",
       "4  19-01-2014       94       173  ...                  5             0   \n",
       "\n",
       "   AcceptedCmp4  AcceptedCmp5  AcceptedCmp1  AcceptedCmp2  Complain  \\\n",
       "0             0             0             0             0         0   \n",
       "1             0             0             0             0         0   \n",
       "2             0             0             0             0         0   \n",
       "3             0             0             0             0         0   \n",
       "4             0             0             0             0         0   \n",
       "\n",
       "   Z_CostContact  Z_Revenue  Response  \n",
       "0              3         11         1  \n",
       "1              3         11         0  \n",
       "2              3         11         0  \n",
       "3              3         11         0  \n",
       "4              3         11         0  \n",
       "\n",
       "[5 rows x 29 columns]"
      ]
     },
     "execution_count": 2,
     "metadata": {},
     "output_type": "execute_result"
    }
   ],
   "source": [
    "# calling the data\n",
    "data=pd.read_csv('D:/Dataset ML/Customer Personality/marketing_campaign.csv', sep='\\t')\n",
    "#check the overview of the data\n",
    "data.head()"
   ]
  },
  {
   "cell_type": "code",
   "execution_count": 3,
   "metadata": {},
   "outputs": [
    {
     "name": "stdout",
     "output_type": "stream",
     "text": [
      "<class 'pandas.core.frame.DataFrame'>\n",
      "RangeIndex: 2240 entries, 0 to 2239\n",
      "Data columns (total 29 columns):\n",
      " #   Column               Non-Null Count  Dtype  \n",
      "---  ------               --------------  -----  \n",
      " 0   ID                   2240 non-null   int64  \n",
      " 1   Year_Birth           2240 non-null   int64  \n",
      " 2   Education            2240 non-null   object \n",
      " 3   Marital_Status       2240 non-null   object \n",
      " 4   Income               2216 non-null   float64\n",
      " 5   Kidhome              2240 non-null   int64  \n",
      " 6   Teenhome             2240 non-null   int64  \n",
      " 7   Dt_Customer          2240 non-null   object \n",
      " 8   Recency              2240 non-null   int64  \n",
      " 9   MntWines             2240 non-null   int64  \n",
      " 10  MntFruits            2240 non-null   int64  \n",
      " 11  MntMeatProducts      2240 non-null   int64  \n",
      " 12  MntFishProducts      2240 non-null   int64  \n",
      " 13  MntSweetProducts     2240 non-null   int64  \n",
      " 14  MntGoldProds         2240 non-null   int64  \n",
      " 15  NumDealsPurchases    2240 non-null   int64  \n",
      " 16  NumWebPurchases      2240 non-null   int64  \n",
      " 17  NumCatalogPurchases  2240 non-null   int64  \n",
      " 18  NumStorePurchases    2240 non-null   int64  \n",
      " 19  NumWebVisitsMonth    2240 non-null   int64  \n",
      " 20  AcceptedCmp3         2240 non-null   int64  \n",
      " 21  AcceptedCmp4         2240 non-null   int64  \n",
      " 22  AcceptedCmp5         2240 non-null   int64  \n",
      " 23  AcceptedCmp1         2240 non-null   int64  \n",
      " 24  AcceptedCmp2         2240 non-null   int64  \n",
      " 25  Complain             2240 non-null   int64  \n",
      " 26  Z_CostContact        2240 non-null   int64  \n",
      " 27  Z_Revenue            2240 non-null   int64  \n",
      " 28  Response             2240 non-null   int64  \n",
      "dtypes: float64(1), int64(25), object(3)\n",
      "memory usage: 507.6+ KB\n"
     ]
    }
   ],
   "source": [
    "# see the data type and the missing value\n",
    "data.info()"
   ]
  },
  {
   "cell_type": "markdown",
   "metadata": {},
   "source": [
    "From the data i could see the fact that most of the data are interger but this doesn't mean that most of them are numeric variables. Based on the data description, it could be said that there is quite large variables that is categorical albeit being binary variabes. Here is the summary for the variable type (i will not disscuss Z_CostContact,Z_Revenue, and ID as they are non needed in the clustering steps) for mean time before assesing them later on:\n",
    "- **Numerical Interger**: Year_Birth, Kidhome, Teenhome, Recency, MntFruits, MntMeatProducts, MntFishProducts, MntSweetProducts, MntGoldProds, NumDealsPurchases, NumWebPurchases, NumCatalogPurchases, NumStorePurchases, NumWebVisitsMonth\n",
    "- **Numerical Continuous**: Income\n",
    "- **Date time**: Dt_Customer\n",
    "- **Binary categorical**: AcceptedCmp1, AcceptedCmp2, AcceptedCmp3, AcceptedCmp4, AcceptedCmp5, Complain\n",
    "- **Nominal**: Education, Marital_Status\n",
    "Aside from all of those, there is missing value only in one variables that is income which only 24 Missing value that will be dropped."
   ]
  },
  {
   "cell_type": "code",
   "execution_count": 4,
   "metadata": {},
   "outputs": [],
   "source": [
    "#duplicating the dataset\n",
    "data_orig=data.copy()"
   ]
  },
  {
   "cell_type": "code",
   "execution_count": 5,
   "metadata": {},
   "outputs": [],
   "source": [
    "# getting the index of row for the missing value\n",
    "ind=np.where(data.isna().any(axis=1))[0]\n",
    "ind=ind.tolist()\n",
    "\n",
    "# rows with missing value\n",
    "Nan=data.iloc[ind,:]\n",
    "\n",
    "# dropping the rows\n",
    "data=data.drop(labels=ind,axis=0)"
   ]
  },
  {
   "cell_type": "markdown",
   "metadata": {},
   "source": [
    "# 2.The Plan and Objective\n",
    "\n",
    "My analysis here will be focused on the clustering algorithm itself. I plan to get customer segmentation especially on the spend ammount by the customer in fish, meat, and fruits or daily necessities as far as i concern. The benefit of this analysis is that i able to get different customer characteristics that perhaps has different behviour on buying daily necessities which allows for targeting of promotion or marketing for new daily necessities or even keeping customer engaged. As perhaps i do not have deep knowledge about marketing or customer behaviour, perhaps i will not have 'sophisticated' analysis in this report.\n",
    "\n",
    "As this is unsupervised learning in which target variables is not present, i will instead compare the result of different clustering method using data analysis of the feature that prevalent on those cluster. I shall compare spending amount, number of cluster (because if there is too many cluster it can become unreasonable), demographics, place of buying, and respond to promotion. The data analysis is such to see which algorithm produces 'distict' result in logical real life situation. As such the algorithm i shall use is K-Means, Hierarchical Clustering, DBSCAN, and MeanShift (which the epsilon shall be tuned later). Additionally perhaps since there binary variables, i think scaling is necessary to ensure each variables has equal influence to the result of clustering. There is some variables that can be combined to reduced dimensionality and simplify analysis which also will be done later on.\n",
    "\n",
    "**Disclaimer**: I admit that few of the idea in this analysis is coming from many sources including those from Kaggle. Therefore i am very grateful for their sharing of their result."
   ]
  },
  {
   "cell_type": "markdown",
   "metadata": {},
   "source": [
    "# 3.Data Preprocessing\n",
    "Will be divided in three steps:\n",
    "1. Viewing category in multiclass nominal variable\n",
    "2. Handle datetime data -> convert and perhaps change it into categorical if necessary\n",
    "3. Reduce dimensionality by combining few variables into one\n",
    "4. Doing scaling for the numerical/interger data\n",
    "\n",
    "Output: Dataframe that already ready for clustering which already has dimensionality reduction and valuable information (through features)"
   ]
  },
  {
   "cell_type": "markdown",
   "metadata": {},
   "source": [
    "## 3.a.Handle Category in Nominal Variables"
   ]
  },
  {
   "cell_type": "code",
   "execution_count": 6,
   "metadata": {},
   "outputs": [
    {
     "name": "stdout",
     "output_type": "stream",
     "text": [
      "Married     857\n",
      "Together    573\n",
      "Single      471\n",
      "Divorced    232\n",
      "Widow        76\n",
      "Alone         3\n",
      "Absurd        2\n",
      "YOLO          2\n",
      "Name: Marital_Status, dtype: int64\n",
      "Graduation    1116\n",
      "PhD            481\n",
      "Master         365\n",
      "2n Cycle       200\n",
      "Basic           54\n",
      "Name: Education, dtype: int64\n"
     ]
    }
   ],
   "source": [
    "# getting the nominal variables first\n",
    "cat=['Marital_Status','Education']\n",
    "categog=data[cat]\n",
    "#see the unique value in the nominal variables\n",
    "ms=categog[cat[0]].value_counts()\n",
    "print(ms)\n",
    "edu=categog[cat[1]].value_counts()\n",
    "print(edu)"
   ]
  },
  {
   "cell_type": "markdown",
   "metadata": {},
   "source": [
    "From the Marital_Status, i think there is quite overlap between categories. The category alone can be merged to single. Additionally since i am not familiar with the difference in spending habits for person thai is Together (i assumed that it mean that the customer is cohabiting) and Married, i will merge the two. Category of absurd and YOLO under my discretion will be placed on the single instead. In the end there will be only Relationship, Single, Divorced, and Widow. \n",
    "\n",
    "For the Education, i think that Master, Graduation, and 2n Cycle can constitute a single category that is Graduate because there is overlapp between their level anyway. Mean while PhD and Basic remain different category because they represented different level of education completely."
   ]
  },
  {
   "cell_type": "code",
   "execution_count": 7,
   "metadata": {},
   "outputs": [
    {
     "data": {
      "text/plain": [
       "Relationship    1430\n",
       "Single           478\n",
       "Divorced         232\n",
       "Widow             76\n",
       "Name: Marital_Status, dtype: int64"
      ]
     },
     "execution_count": 7,
     "metadata": {},
     "output_type": "execute_result"
    }
   ],
   "source": [
    "# replace for the marital status\n",
    "data[cat[0]]=data[cat[0]].replace(['Alone','Absurd','YOLO'],'Single')\n",
    "data[cat[0]]=data[cat[0]].replace(['Together','Married'],'Relationship')\n",
    "data[cat[0]].value_counts()"
   ]
  },
  {
   "cell_type": "code",
   "execution_count": 8,
   "metadata": {},
   "outputs": [
    {
     "data": {
      "text/plain": [
       "Graduate    1681\n",
       "PhD          481\n",
       "Basic         54\n",
       "Name: Education, dtype: int64"
      ]
     },
     "execution_count": 8,
     "metadata": {},
     "output_type": "execute_result"
    }
   ],
   "source": [
    "# replace for the education\n",
    "data[cat[1]]=data[cat[1]].replace(['Graduation','Master','2n Cycle'],'Graduate')\n",
    "data[cat[1]].value_counts()"
   ]
  },
  {
   "cell_type": "markdown",
   "metadata": {},
   "source": [
    "## 3.b.Handle Datetime Variable\n",
    "The goal here is to see how many years the customer is engaging with the company. As such although this is already 2023, the data come from as far as i know come from 2021. Therefore there is the need to determined the last date. Since the last customer enroll to the company in 2014, to ensure fairness and reduce the inaccuracy, i will use the end of 2016 as the last day because the description in the data show that at least there is the need for 2 years of transaction. I will also convert the Year_Birth to become Age with limitation in which the 2017 is considered as the last year and i assumed that the people is still alive in that year."
   ]
  },
  {
   "cell_type": "code",
   "execution_count": 9,
   "metadata": {},
   "outputs": [],
   "source": [
    "# convert the object type to datetime\n",
    "data['Dt_Customer'] = pd.to_datetime(data['Dt_Customer'], format='%d-%m-%Y')"
   ]
  },
  {
   "cell_type": "code",
   "execution_count": 10,
   "metadata": {},
   "outputs": [
    {
     "data": {
      "text/plain": [
       "Timestamp('2012-07-30 00:00:00')"
      ]
     },
     "execution_count": 10,
     "metadata": {},
     "output_type": "execute_result"
    }
   ],
   "source": [
    "data['Dt_Customer'].min()"
   ]
  },
  {
   "cell_type": "code",
   "execution_count": 11,
   "metadata": {},
   "outputs": [],
   "source": [
    "# the last day of the data measurement\n",
    "data['last_day'] = pd.to_datetime('31-12-2016', format='%d-%m-%Y')\n",
    "# search for the days in which they were engaged on\n",
    "data['day_engaged'] = (data['last_day']-data['Dt_Customer']).dt.days"
   ]
  },
  {
   "cell_type": "code",
   "execution_count": 12,
   "metadata": {},
   "outputs": [
    {
     "data": {
      "text/plain": [
       "count    2216.000000\n",
       "mean     1269.521209\n",
       "std       202.434667\n",
       "min       916.000000\n",
       "25%      1096.000000\n",
       "50%      1271.500000\n",
       "75%      1445.000000\n",
       "max      1615.000000\n",
       "Name: day_engaged, dtype: float64"
      ]
     },
     "execution_count": 12,
     "metadata": {},
     "output_type": "execute_result"
    }
   ],
   "source": [
    "data['day_engaged'].describe()"
   ]
  },
  {
   "cell_type": "code",
   "execution_count": 13,
   "metadata": {},
   "outputs": [],
   "source": [
    "# search for the months in which they were engaged on -> to simplify interpretation later on\n",
    "data['month_engaged'] = (data['day_engaged'])//30"
   ]
  },
  {
   "cell_type": "code",
   "execution_count": 14,
   "metadata": {},
   "outputs": [
    {
     "data": {
      "text/plain": [
       "count    2216.000000\n",
       "mean       41.831227\n",
       "std         6.765030\n",
       "min        30.000000\n",
       "25%        36.000000\n",
       "50%        42.000000\n",
       "75%        48.000000\n",
       "max        53.000000\n",
       "Name: month_engaged, dtype: float64"
      ]
     },
     "execution_count": 14,
     "metadata": {},
     "output_type": "execute_result"
    }
   ],
   "source": [
    "data['month_engaged'].describe()"
   ]
  },
  {
   "cell_type": "code",
   "execution_count": 15,
   "metadata": {},
   "outputs": [],
   "source": [
    "data['age']=2017-data['Year_Birth']"
   ]
  },
  {
   "cell_type": "code",
   "execution_count": 16,
   "metadata": {},
   "outputs": [
    {
     "data": {
      "text/plain": [
       "124"
      ]
     },
     "execution_count": 16,
     "metadata": {},
     "output_type": "execute_result"
    }
   ],
   "source": [
    "data['age'].max()"
   ]
  },
  {
   "cell_type": "code",
   "execution_count": 17,
   "metadata": {},
   "outputs": [
    {
     "data": {
      "text/html": [
       "<div>\n",
       "<style scoped>\n",
       "    .dataframe tbody tr th:only-of-type {\n",
       "        vertical-align: middle;\n",
       "    }\n",
       "\n",
       "    .dataframe tbody tr th {\n",
       "        vertical-align: top;\n",
       "    }\n",
       "\n",
       "    .dataframe thead th {\n",
       "        text-align: right;\n",
       "    }\n",
       "</style>\n",
       "<table border=\"1\" class=\"dataframe\">\n",
       "  <thead>\n",
       "    <tr style=\"text-align: right;\">\n",
       "      <th></th>\n",
       "      <th>ID</th>\n",
       "      <th>Year_Birth</th>\n",
       "      <th>Education</th>\n",
       "      <th>Marital_Status</th>\n",
       "      <th>Income</th>\n",
       "      <th>Kidhome</th>\n",
       "      <th>Teenhome</th>\n",
       "      <th>Dt_Customer</th>\n",
       "      <th>Recency</th>\n",
       "      <th>MntWines</th>\n",
       "      <th>...</th>\n",
       "      <th>AcceptedCmp1</th>\n",
       "      <th>AcceptedCmp2</th>\n",
       "      <th>Complain</th>\n",
       "      <th>Z_CostContact</th>\n",
       "      <th>Z_Revenue</th>\n",
       "      <th>Response</th>\n",
       "      <th>last_day</th>\n",
       "      <th>day_engaged</th>\n",
       "      <th>month_engaged</th>\n",
       "      <th>age</th>\n",
       "    </tr>\n",
       "  </thead>\n",
       "  <tbody>\n",
       "    <tr>\n",
       "      <th>192</th>\n",
       "      <td>7829</td>\n",
       "      <td>1900</td>\n",
       "      <td>Graduate</td>\n",
       "      <td>Divorced</td>\n",
       "      <td>36640.0</td>\n",
       "      <td>1</td>\n",
       "      <td>0</td>\n",
       "      <td>2013-09-26</td>\n",
       "      <td>99</td>\n",
       "      <td>15</td>\n",
       "      <td>...</td>\n",
       "      <td>0</td>\n",
       "      <td>0</td>\n",
       "      <td>1</td>\n",
       "      <td>3</td>\n",
       "      <td>11</td>\n",
       "      <td>0</td>\n",
       "      <td>2016-12-31</td>\n",
       "      <td>1192</td>\n",
       "      <td>39</td>\n",
       "      <td>117</td>\n",
       "    </tr>\n",
       "    <tr>\n",
       "      <th>239</th>\n",
       "      <td>11004</td>\n",
       "      <td>1893</td>\n",
       "      <td>Graduate</td>\n",
       "      <td>Single</td>\n",
       "      <td>60182.0</td>\n",
       "      <td>0</td>\n",
       "      <td>1</td>\n",
       "      <td>2014-05-17</td>\n",
       "      <td>23</td>\n",
       "      <td>8</td>\n",
       "      <td>...</td>\n",
       "      <td>0</td>\n",
       "      <td>0</td>\n",
       "      <td>0</td>\n",
       "      <td>3</td>\n",
       "      <td>11</td>\n",
       "      <td>0</td>\n",
       "      <td>2016-12-31</td>\n",
       "      <td>959</td>\n",
       "      <td>31</td>\n",
       "      <td>124</td>\n",
       "    </tr>\n",
       "    <tr>\n",
       "      <th>339</th>\n",
       "      <td>1150</td>\n",
       "      <td>1899</td>\n",
       "      <td>PhD</td>\n",
       "      <td>Relationship</td>\n",
       "      <td>83532.0</td>\n",
       "      <td>0</td>\n",
       "      <td>0</td>\n",
       "      <td>2013-09-26</td>\n",
       "      <td>36</td>\n",
       "      <td>755</td>\n",
       "      <td>...</td>\n",
       "      <td>0</td>\n",
       "      <td>0</td>\n",
       "      <td>0</td>\n",
       "      <td>3</td>\n",
       "      <td>11</td>\n",
       "      <td>0</td>\n",
       "      <td>2016-12-31</td>\n",
       "      <td>1192</td>\n",
       "      <td>39</td>\n",
       "      <td>118</td>\n",
       "    </tr>\n",
       "  </tbody>\n",
       "</table>\n",
       "<p>3 rows × 33 columns</p>\n",
       "</div>"
      ],
      "text/plain": [
       "        ID  Year_Birth Education Marital_Status   Income  Kidhome  Teenhome  \\\n",
       "192   7829        1900  Graduate       Divorced  36640.0        1         0   \n",
       "239  11004        1893  Graduate         Single  60182.0        0         1   \n",
       "339   1150        1899       PhD   Relationship  83532.0        0         0   \n",
       "\n",
       "    Dt_Customer  Recency  MntWines  ...  AcceptedCmp1  AcceptedCmp2  Complain  \\\n",
       "192  2013-09-26       99        15  ...             0             0         1   \n",
       "239  2014-05-17       23         8  ...             0             0         0   \n",
       "339  2013-09-26       36       755  ...             0             0         0   \n",
       "\n",
       "     Z_CostContact  Z_Revenue  Response   last_day  day_engaged  \\\n",
       "192              3         11         0 2016-12-31         1192   \n",
       "239              3         11         0 2016-12-31          959   \n",
       "339              3         11         0 2016-12-31         1192   \n",
       "\n",
       "     month_engaged  age  \n",
       "192             39  117  \n",
       "239             31  124  \n",
       "339             39  118  \n",
       "\n",
       "[3 rows x 33 columns]"
      ]
     },
     "execution_count": 17,
     "metadata": {},
     "output_type": "execute_result"
    }
   ],
   "source": [
    "data[data['age']>80]"
   ]
  },
  {
   "cell_type": "markdown",
   "metadata": {},
   "source": [
    "Seeing the fact that all almost cetenarians in the group is only around 1 month from shopping, it safe to assumed that they still alive although their future value (i'm sorry if sound bad but i seeing it from the perspective of business) is quite unknown and perhaps very limited."
   ]
  },
  {
   "cell_type": "markdown",
   "metadata": {},
   "source": [
    "## 3.c.Merge Some Variable\n",
    "Since i want to see segmenting when buying the daily necessities anyway, the 3 variables included that is for buying fish, meat, and fruit become redundant as such just combine them. I admit this will 'decrease' the insight into the detailed behaviour but the goal here is to see the clustering in the buying of daily necesitites and i saw that seperating them is not good option.\n",
    "\n",
    "Additionally i assumed that there is 6 promotion in which the customer has variety of response. To simplify the situation i assume that there is no targeted advertisement yet and all the offer is related to the grocery and the AcceptedCmp1 is the earliest promotion while response the the recent promotion. As such while number of accepting offer is good, it does not show the recent condition which could be seen in the few promotion (because people changed). Therefore split the 6 promotion indicator into 2 could be bridge between number and order in the promotion in my opinion"
   ]
  },
  {
   "cell_type": "code",
   "execution_count": 18,
   "metadata": {},
   "outputs": [
    {
     "data": {
      "text/plain": [
       "count    2216.000000\n",
       "mean      230.989621\n",
       "std       285.194608\n",
       "min         1.000000\n",
       "25%        25.000000\n",
       "50%        90.000000\n",
       "75%       360.250000\n",
       "max      1727.000000\n",
       "Name: grocery, dtype: float64"
      ]
     },
     "execution_count": 18,
     "metadata": {},
     "output_type": "execute_result"
    }
   ],
   "source": [
    "data['grocery']=data['MntMeatProducts']+data['MntFishProducts']+data['MntFruits']\n",
    "data['grocery'].describe()"
   ]
  },
  {
   "cell_type": "code",
   "execution_count": 19,
   "metadata": {},
   "outputs": [
    {
     "data": {
      "text/html": [
       "<div>\n",
       "<style scoped>\n",
       "    .dataframe tbody tr th:only-of-type {\n",
       "        vertical-align: middle;\n",
       "    }\n",
       "\n",
       "    .dataframe tbody tr th {\n",
       "        vertical-align: top;\n",
       "    }\n",
       "\n",
       "    .dataframe thead th {\n",
       "        text-align: right;\n",
       "    }\n",
       "</style>\n",
       "<table border=\"1\" class=\"dataframe\">\n",
       "  <thead>\n",
       "    <tr style=\"text-align: right;\">\n",
       "      <th></th>\n",
       "      <th>ID</th>\n",
       "      <th>Year_Birth</th>\n",
       "      <th>Education</th>\n",
       "      <th>Marital_Status</th>\n",
       "      <th>Income</th>\n",
       "      <th>Kidhome</th>\n",
       "      <th>Teenhome</th>\n",
       "      <th>Dt_Customer</th>\n",
       "      <th>Recency</th>\n",
       "      <th>MntWines</th>\n",
       "      <th>...</th>\n",
       "      <th>Z_CostContact</th>\n",
       "      <th>Z_Revenue</th>\n",
       "      <th>Response</th>\n",
       "      <th>last_day</th>\n",
       "      <th>day_engaged</th>\n",
       "      <th>month_engaged</th>\n",
       "      <th>age</th>\n",
       "      <th>grocery</th>\n",
       "      <th>early_offer</th>\n",
       "      <th>recent_offer</th>\n",
       "    </tr>\n",
       "  </thead>\n",
       "  <tbody>\n",
       "    <tr>\n",
       "      <th>0</th>\n",
       "      <td>5524</td>\n",
       "      <td>1957</td>\n",
       "      <td>Graduate</td>\n",
       "      <td>Single</td>\n",
       "      <td>58138.0</td>\n",
       "      <td>0</td>\n",
       "      <td>0</td>\n",
       "      <td>2012-09-04</td>\n",
       "      <td>58</td>\n",
       "      <td>635</td>\n",
       "      <td>...</td>\n",
       "      <td>3</td>\n",
       "      <td>11</td>\n",
       "      <td>1</td>\n",
       "      <td>2016-12-31</td>\n",
       "      <td>1579</td>\n",
       "      <td>52</td>\n",
       "      <td>60</td>\n",
       "      <td>806</td>\n",
       "      <td>0</td>\n",
       "      <td>1</td>\n",
       "    </tr>\n",
       "    <tr>\n",
       "      <th>1</th>\n",
       "      <td>2174</td>\n",
       "      <td>1954</td>\n",
       "      <td>Graduate</td>\n",
       "      <td>Single</td>\n",
       "      <td>46344.0</td>\n",
       "      <td>1</td>\n",
       "      <td>1</td>\n",
       "      <td>2014-03-08</td>\n",
       "      <td>38</td>\n",
       "      <td>11</td>\n",
       "      <td>...</td>\n",
       "      <td>3</td>\n",
       "      <td>11</td>\n",
       "      <td>0</td>\n",
       "      <td>2016-12-31</td>\n",
       "      <td>1029</td>\n",
       "      <td>34</td>\n",
       "      <td>63</td>\n",
       "      <td>9</td>\n",
       "      <td>0</td>\n",
       "      <td>0</td>\n",
       "    </tr>\n",
       "    <tr>\n",
       "      <th>2</th>\n",
       "      <td>4141</td>\n",
       "      <td>1965</td>\n",
       "      <td>Graduate</td>\n",
       "      <td>Relationship</td>\n",
       "      <td>71613.0</td>\n",
       "      <td>0</td>\n",
       "      <td>0</td>\n",
       "      <td>2013-08-21</td>\n",
       "      <td>26</td>\n",
       "      <td>426</td>\n",
       "      <td>...</td>\n",
       "      <td>3</td>\n",
       "      <td>11</td>\n",
       "      <td>0</td>\n",
       "      <td>2016-12-31</td>\n",
       "      <td>1228</td>\n",
       "      <td>40</td>\n",
       "      <td>52</td>\n",
       "      <td>287</td>\n",
       "      <td>0</td>\n",
       "      <td>0</td>\n",
       "    </tr>\n",
       "    <tr>\n",
       "      <th>3</th>\n",
       "      <td>6182</td>\n",
       "      <td>1984</td>\n",
       "      <td>Graduate</td>\n",
       "      <td>Relationship</td>\n",
       "      <td>26646.0</td>\n",
       "      <td>1</td>\n",
       "      <td>0</td>\n",
       "      <td>2014-02-10</td>\n",
       "      <td>26</td>\n",
       "      <td>11</td>\n",
       "      <td>...</td>\n",
       "      <td>3</td>\n",
       "      <td>11</td>\n",
       "      <td>0</td>\n",
       "      <td>2016-12-31</td>\n",
       "      <td>1055</td>\n",
       "      <td>35</td>\n",
       "      <td>33</td>\n",
       "      <td>34</td>\n",
       "      <td>0</td>\n",
       "      <td>0</td>\n",
       "    </tr>\n",
       "    <tr>\n",
       "      <th>4</th>\n",
       "      <td>5324</td>\n",
       "      <td>1981</td>\n",
       "      <td>PhD</td>\n",
       "      <td>Relationship</td>\n",
       "      <td>58293.0</td>\n",
       "      <td>1</td>\n",
       "      <td>0</td>\n",
       "      <td>2014-01-19</td>\n",
       "      <td>94</td>\n",
       "      <td>173</td>\n",
       "      <td>...</td>\n",
       "      <td>3</td>\n",
       "      <td>11</td>\n",
       "      <td>0</td>\n",
       "      <td>2016-12-31</td>\n",
       "      <td>1077</td>\n",
       "      <td>35</td>\n",
       "      <td>36</td>\n",
       "      <td>207</td>\n",
       "      <td>0</td>\n",
       "      <td>0</td>\n",
       "    </tr>\n",
       "  </tbody>\n",
       "</table>\n",
       "<p>5 rows × 36 columns</p>\n",
       "</div>"
      ],
      "text/plain": [
       "     ID  Year_Birth Education Marital_Status   Income  Kidhome  Teenhome  \\\n",
       "0  5524        1957  Graduate         Single  58138.0        0         0   \n",
       "1  2174        1954  Graduate         Single  46344.0        1         1   \n",
       "2  4141        1965  Graduate   Relationship  71613.0        0         0   \n",
       "3  6182        1984  Graduate   Relationship  26646.0        1         0   \n",
       "4  5324        1981       PhD   Relationship  58293.0        1         0   \n",
       "\n",
       "  Dt_Customer  Recency  MntWines  ...  Z_CostContact  Z_Revenue  Response  \\\n",
       "0  2012-09-04       58       635  ...              3         11         1   \n",
       "1  2014-03-08       38        11  ...              3         11         0   \n",
       "2  2013-08-21       26       426  ...              3         11         0   \n",
       "3  2014-02-10       26        11  ...              3         11         0   \n",
       "4  2014-01-19       94       173  ...              3         11         0   \n",
       "\n",
       "    last_day  day_engaged  month_engaged  age  grocery  early_offer  \\\n",
       "0 2016-12-31         1579             52   60      806            0   \n",
       "1 2016-12-31         1029             34   63        9            0   \n",
       "2 2016-12-31         1228             40   52      287            0   \n",
       "3 2016-12-31         1055             35   33       34            0   \n",
       "4 2016-12-31         1077             35   36      207            0   \n",
       "\n",
       "   recent_offer  \n",
       "0             1  \n",
       "1             0  \n",
       "2             0  \n",
       "3             0  \n",
       "4             0  \n",
       "\n",
       "[5 rows x 36 columns]"
      ]
     },
     "execution_count": 19,
     "metadata": {},
     "output_type": "execute_result"
    }
   ],
   "source": [
    "data['early_offer']=data['AcceptedCmp1']+data['AcceptedCmp2']+data['AcceptedCmp3']\n",
    "data['recent_offer']=data['AcceptedCmp4']+data['AcceptedCmp5']+data['Response']\n",
    "data.head()"
   ]
  },
  {
   "cell_type": "markdown",
   "metadata": {},
   "source": [
    "## 3.d.Convert the Categorical into Numerical"
   ]
  },
  {
   "cell_type": "code",
   "execution_count": 20,
   "metadata": {},
   "outputs": [],
   "source": [
    "# Perform one-hot encoding on the isolated column\n",
    "encoded = pd.get_dummies(data[['Education','Marital_Status']], prefix=['Education','Marital_Status'])\n",
    "\n",
    "# Combine the original DataFrame with the encoded column\n",
    "data_encoded = pd.concat([data, encoded], axis=1)\n",
    "\n",
    "# Drop the original \"Color\" column if needed\n",
    "data_encoded.drop(columns=['Education','Marital_Status'], inplace=True)"
   ]
  },
  {
   "cell_type": "markdown",
   "metadata": {},
   "source": [
    "## 3.e.Scaling The Numerical Variable\n",
    "I will use standard scaler"
   ]
  },
  {
   "cell_type": "code",
   "execution_count": 21,
   "metadata": {},
   "outputs": [
    {
     "data": {
      "text/html": [
       "<div>\n",
       "<style scoped>\n",
       "    .dataframe tbody tr th:only-of-type {\n",
       "        vertical-align: middle;\n",
       "    }\n",
       "\n",
       "    .dataframe tbody tr th {\n",
       "        vertical-align: top;\n",
       "    }\n",
       "\n",
       "    .dataframe thead th {\n",
       "        text-align: right;\n",
       "    }\n",
       "</style>\n",
       "<table border=\"1\" class=\"dataframe\">\n",
       "  <thead>\n",
       "    <tr style=\"text-align: right;\">\n",
       "      <th></th>\n",
       "      <th>ID</th>\n",
       "      <th>Year_Birth</th>\n",
       "      <th>Income</th>\n",
       "      <th>Kidhome</th>\n",
       "      <th>Teenhome</th>\n",
       "      <th>Dt_Customer</th>\n",
       "      <th>Recency</th>\n",
       "      <th>MntWines</th>\n",
       "      <th>MntFruits</th>\n",
       "      <th>MntMeatProducts</th>\n",
       "      <th>...</th>\n",
       "      <th>grocery</th>\n",
       "      <th>early_offer</th>\n",
       "      <th>recent_offer</th>\n",
       "      <th>Education_Basic</th>\n",
       "      <th>Education_Graduate</th>\n",
       "      <th>Education_PhD</th>\n",
       "      <th>Marital_Status_Divorced</th>\n",
       "      <th>Marital_Status_Relationship</th>\n",
       "      <th>Marital_Status_Single</th>\n",
       "      <th>Marital_Status_Widow</th>\n",
       "    </tr>\n",
       "  </thead>\n",
       "  <tbody>\n",
       "    <tr>\n",
       "      <th>0</th>\n",
       "      <td>5524</td>\n",
       "      <td>1957</td>\n",
       "      <td>58138.0</td>\n",
       "      <td>0</td>\n",
       "      <td>0</td>\n",
       "      <td>2012-09-04</td>\n",
       "      <td>58</td>\n",
       "      <td>635</td>\n",
       "      <td>88</td>\n",
       "      <td>546</td>\n",
       "      <td>...</td>\n",
       "      <td>806</td>\n",
       "      <td>0</td>\n",
       "      <td>1</td>\n",
       "      <td>0</td>\n",
       "      <td>1</td>\n",
       "      <td>0</td>\n",
       "      <td>0</td>\n",
       "      <td>0</td>\n",
       "      <td>1</td>\n",
       "      <td>0</td>\n",
       "    </tr>\n",
       "    <tr>\n",
       "      <th>1</th>\n",
       "      <td>2174</td>\n",
       "      <td>1954</td>\n",
       "      <td>46344.0</td>\n",
       "      <td>1</td>\n",
       "      <td>1</td>\n",
       "      <td>2014-03-08</td>\n",
       "      <td>38</td>\n",
       "      <td>11</td>\n",
       "      <td>1</td>\n",
       "      <td>6</td>\n",
       "      <td>...</td>\n",
       "      <td>9</td>\n",
       "      <td>0</td>\n",
       "      <td>0</td>\n",
       "      <td>0</td>\n",
       "      <td>1</td>\n",
       "      <td>0</td>\n",
       "      <td>0</td>\n",
       "      <td>0</td>\n",
       "      <td>1</td>\n",
       "      <td>0</td>\n",
       "    </tr>\n",
       "    <tr>\n",
       "      <th>2</th>\n",
       "      <td>4141</td>\n",
       "      <td>1965</td>\n",
       "      <td>71613.0</td>\n",
       "      <td>0</td>\n",
       "      <td>0</td>\n",
       "      <td>2013-08-21</td>\n",
       "      <td>26</td>\n",
       "      <td>426</td>\n",
       "      <td>49</td>\n",
       "      <td>127</td>\n",
       "      <td>...</td>\n",
       "      <td>287</td>\n",
       "      <td>0</td>\n",
       "      <td>0</td>\n",
       "      <td>0</td>\n",
       "      <td>1</td>\n",
       "      <td>0</td>\n",
       "      <td>0</td>\n",
       "      <td>1</td>\n",
       "      <td>0</td>\n",
       "      <td>0</td>\n",
       "    </tr>\n",
       "    <tr>\n",
       "      <th>3</th>\n",
       "      <td>6182</td>\n",
       "      <td>1984</td>\n",
       "      <td>26646.0</td>\n",
       "      <td>1</td>\n",
       "      <td>0</td>\n",
       "      <td>2014-02-10</td>\n",
       "      <td>26</td>\n",
       "      <td>11</td>\n",
       "      <td>4</td>\n",
       "      <td>20</td>\n",
       "      <td>...</td>\n",
       "      <td>34</td>\n",
       "      <td>0</td>\n",
       "      <td>0</td>\n",
       "      <td>0</td>\n",
       "      <td>1</td>\n",
       "      <td>0</td>\n",
       "      <td>0</td>\n",
       "      <td>1</td>\n",
       "      <td>0</td>\n",
       "      <td>0</td>\n",
       "    </tr>\n",
       "    <tr>\n",
       "      <th>4</th>\n",
       "      <td>5324</td>\n",
       "      <td>1981</td>\n",
       "      <td>58293.0</td>\n",
       "      <td>1</td>\n",
       "      <td>0</td>\n",
       "      <td>2014-01-19</td>\n",
       "      <td>94</td>\n",
       "      <td>173</td>\n",
       "      <td>43</td>\n",
       "      <td>118</td>\n",
       "      <td>...</td>\n",
       "      <td>207</td>\n",
       "      <td>0</td>\n",
       "      <td>0</td>\n",
       "      <td>0</td>\n",
       "      <td>0</td>\n",
       "      <td>1</td>\n",
       "      <td>0</td>\n",
       "      <td>1</td>\n",
       "      <td>0</td>\n",
       "      <td>0</td>\n",
       "    </tr>\n",
       "  </tbody>\n",
       "</table>\n",
       "<p>5 rows × 41 columns</p>\n",
       "</div>"
      ],
      "text/plain": [
       "     ID  Year_Birth   Income  Kidhome  Teenhome Dt_Customer  Recency  \\\n",
       "0  5524        1957  58138.0        0         0  2012-09-04       58   \n",
       "1  2174        1954  46344.0        1         1  2014-03-08       38   \n",
       "2  4141        1965  71613.0        0         0  2013-08-21       26   \n",
       "3  6182        1984  26646.0        1         0  2014-02-10       26   \n",
       "4  5324        1981  58293.0        1         0  2014-01-19       94   \n",
       "\n",
       "   MntWines  MntFruits  MntMeatProducts  ...  grocery  early_offer  \\\n",
       "0       635         88              546  ...      806            0   \n",
       "1        11          1                6  ...        9            0   \n",
       "2       426         49              127  ...      287            0   \n",
       "3        11          4               20  ...       34            0   \n",
       "4       173         43              118  ...      207            0   \n",
       "\n",
       "   recent_offer  Education_Basic  Education_Graduate  Education_PhD  \\\n",
       "0             1                0                   1              0   \n",
       "1             0                0                   1              0   \n",
       "2             0                0                   1              0   \n",
       "3             0                0                   1              0   \n",
       "4             0                0                   0              1   \n",
       "\n",
       "   Marital_Status_Divorced  Marital_Status_Relationship  \\\n",
       "0                        0                            0   \n",
       "1                        0                            0   \n",
       "2                        0                            1   \n",
       "3                        0                            1   \n",
       "4                        0                            1   \n",
       "\n",
       "   Marital_Status_Single  Marital_Status_Widow  \n",
       "0                      1                     0  \n",
       "1                      1                     0  \n",
       "2                      0                     0  \n",
       "3                      0                     0  \n",
       "4                      0                     0  \n",
       "\n",
       "[5 rows x 41 columns]"
      ]
     },
     "execution_count": 21,
     "metadata": {},
     "output_type": "execute_result"
    }
   ],
   "source": [
    "da=data_encoded.copy()\n",
    "da.head()"
   ]
  },
  {
   "cell_type": "code",
   "execution_count": 22,
   "metadata": {},
   "outputs": [],
   "source": [
    "scaler=StandardScaler()"
   ]
  },
  {
   "cell_type": "code",
   "execution_count": 23,
   "metadata": {},
   "outputs": [],
   "source": [
    "# decided which variables going to be scaled\n",
    "numeric=['age','Income','Kidhome','Teenhome','Recency','grocery','NumDealsPurchases','NumWebPurchases',\n",
    "         'NumCatalogPurchases','NumStorePurchases','NumWebVisitsMonth','month_engaged','early_offer','recent_offer']"
   ]
  },
  {
   "cell_type": "code",
   "execution_count": 24,
   "metadata": {},
   "outputs": [],
   "source": [
    "da[numeric]=scaler.fit_transform(da[numeric])"
   ]
  },
  {
   "cell_type": "code",
   "execution_count": 25,
   "metadata": {},
   "outputs": [
    {
     "data": {
      "text/html": [
       "<div>\n",
       "<style scoped>\n",
       "    .dataframe tbody tr th:only-of-type {\n",
       "        vertical-align: middle;\n",
       "    }\n",
       "\n",
       "    .dataframe tbody tr th {\n",
       "        vertical-align: top;\n",
       "    }\n",
       "\n",
       "    .dataframe thead th {\n",
       "        text-align: right;\n",
       "    }\n",
       "</style>\n",
       "<table border=\"1\" class=\"dataframe\">\n",
       "  <thead>\n",
       "    <tr style=\"text-align: right;\">\n",
       "      <th></th>\n",
       "      <th>age</th>\n",
       "      <th>Income</th>\n",
       "      <th>Kidhome</th>\n",
       "      <th>Teenhome</th>\n",
       "      <th>Recency</th>\n",
       "      <th>grocery</th>\n",
       "      <th>NumDealsPurchases</th>\n",
       "      <th>NumWebPurchases</th>\n",
       "      <th>NumCatalogPurchases</th>\n",
       "      <th>NumStorePurchases</th>\n",
       "      <th>NumWebVisitsMonth</th>\n",
       "      <th>month_engaged</th>\n",
       "      <th>early_offer</th>\n",
       "      <th>recent_offer</th>\n",
       "    </tr>\n",
       "  </thead>\n",
       "  <tbody>\n",
       "    <tr>\n",
       "      <th>count</th>\n",
       "      <td>2.216000e+03</td>\n",
       "      <td>2.216000e+03</td>\n",
       "      <td>2.216000e+03</td>\n",
       "      <td>2.216000e+03</td>\n",
       "      <td>2.216000e+03</td>\n",
       "      <td>2.216000e+03</td>\n",
       "      <td>2.216000e+03</td>\n",
       "      <td>2.216000e+03</td>\n",
       "      <td>2.216000e+03</td>\n",
       "      <td>2.216000e+03</td>\n",
       "      <td>2.216000e+03</td>\n",
       "      <td>2.216000e+03</td>\n",
       "      <td>2.216000e+03</td>\n",
       "      <td>2.216000e+03</td>\n",
       "    </tr>\n",
       "    <tr>\n",
       "      <th>mean</th>\n",
       "      <td>9.108238e-17</td>\n",
       "      <td>5.859858e-17</td>\n",
       "      <td>-2.310627e-16</td>\n",
       "      <td>1.619242e-16</td>\n",
       "      <td>-1.175353e-16</td>\n",
       "      <td>3.612233e-17</td>\n",
       "      <td>1.223700e-16</td>\n",
       "      <td>-1.499252e-16</td>\n",
       "      <td>-1.462428e-16</td>\n",
       "      <td>4.478968e-17</td>\n",
       "      <td>6.773563e-17</td>\n",
       "      <td>-1.764533e-16</td>\n",
       "      <td>1.921848e-16</td>\n",
       "      <td>3.617243e-17</td>\n",
       "    </tr>\n",
       "    <tr>\n",
       "      <th>std</th>\n",
       "      <td>1.000226e+00</td>\n",
       "      <td>1.000226e+00</td>\n",
       "      <td>1.000226e+00</td>\n",
       "      <td>1.000226e+00</td>\n",
       "      <td>1.000226e+00</td>\n",
       "      <td>1.000226e+00</td>\n",
       "      <td>1.000226e+00</td>\n",
       "      <td>1.000226e+00</td>\n",
       "      <td>1.000226e+00</td>\n",
       "      <td>1.000226e+00</td>\n",
       "      <td>1.000226e+00</td>\n",
       "      <td>1.000226e+00</td>\n",
       "      <td>1.000226e+00</td>\n",
       "      <td>1.000226e+00</td>\n",
       "    </tr>\n",
       "    <tr>\n",
       "      <th>min</th>\n",
       "      <td>-2.268209e+00</td>\n",
       "      <td>-2.007250e+00</td>\n",
       "      <td>-8.230393e-01</td>\n",
       "      <td>-9.289722e-01</td>\n",
       "      <td>-1.693488e+00</td>\n",
       "      <td>-8.066125e-01</td>\n",
       "      <td>-1.208121e+00</td>\n",
       "      <td>-1.490800e+00</td>\n",
       "      <td>-9.128373e-01</td>\n",
       "      <td>-1.784893e+00</td>\n",
       "      <td>-2.193591e+00</td>\n",
       "      <td>-1.749275e+00</td>\n",
       "      <td>-3.687909e-01</td>\n",
       "      <td>-4.700377e-01</td>\n",
       "    </tr>\n",
       "    <tr>\n",
       "      <th>25%</th>\n",
       "      <td>-6.826092e-01</td>\n",
       "      <td>-6.732620e-01</td>\n",
       "      <td>-8.230393e-01</td>\n",
       "      <td>-9.289722e-01</td>\n",
       "      <td>-8.642385e-01</td>\n",
       "      <td>-7.224404e-01</td>\n",
       "      <td>-6.881759e-01</td>\n",
       "      <td>-7.609619e-01</td>\n",
       "      <td>-9.128373e-01</td>\n",
       "      <td>-8.618303e-01</td>\n",
       "      <td>-9.563810e-01</td>\n",
       "      <td>-8.621608e-01</td>\n",
       "      <td>-3.687909e-01</td>\n",
       "      <td>-4.700377e-01</td>\n",
       "    </tr>\n",
       "    <tr>\n",
       "      <th>50%</th>\n",
       "      <td>-9.844093e-02</td>\n",
       "      <td>-3.439972e-02</td>\n",
       "      <td>-8.230393e-01</td>\n",
       "      <td>-9.289722e-01</td>\n",
       "      <td>-4.365786e-04</td>\n",
       "      <td>-4.944744e-01</td>\n",
       "      <td>-1.682312e-01</td>\n",
       "      <td>-3.112352e-02</td>\n",
       "      <td>-2.293274e-01</td>\n",
       "      <td>-2.464554e-01</td>\n",
       "      <td>2.808287e-01</td>\n",
       "      <td>2.495342e-02</td>\n",
       "      <td>-3.687909e-01</td>\n",
       "      <td>-4.700377e-01</td>\n",
       "    </tr>\n",
       "    <tr>\n",
       "      <th>75%</th>\n",
       "      <td>8.195377e-01</td>\n",
       "      <td>6.466600e-01</td>\n",
       "      <td>1.039938e+00</td>\n",
       "      <td>9.090657e-01</td>\n",
       "      <td>8.633654e-01</td>\n",
       "      <td>4.533380e-01</td>\n",
       "      <td>3.517135e-01</td>\n",
       "      <td>6.987149e-01</td>\n",
       "      <td>4.541825e-01</td>\n",
       "      <td>6.766069e-01</td>\n",
       "      <td>6.932320e-01</td>\n",
       "      <td>9.120676e-01</td>\n",
       "      <td>-3.687909e-01</td>\n",
       "      <td>-4.700377e-01</td>\n",
       "    </tr>\n",
       "    <tr>\n",
       "      <th>max</th>\n",
       "      <td>6.327410e+00</td>\n",
       "      <td>2.441328e+01</td>\n",
       "      <td>2.902916e+00</td>\n",
       "      <td>2.747104e+00</td>\n",
       "      <td>1.727167e+00</td>\n",
       "      <td>5.246761e+00</td>\n",
       "      <td>6.591050e+00</td>\n",
       "      <td>8.362018e+00</td>\n",
       "      <td>8.656301e+00</td>\n",
       "      <td>2.215044e+00</td>\n",
       "      <td>6.054474e+00</td>\n",
       "      <td>1.651329e+00</td>\n",
       "      <td>6.949782e+00</td>\n",
       "      <td>4.271708e+00</td>\n",
       "    </tr>\n",
       "  </tbody>\n",
       "</table>\n",
       "</div>"
      ],
      "text/plain": [
       "                age        Income       Kidhome      Teenhome       Recency  \\\n",
       "count  2.216000e+03  2.216000e+03  2.216000e+03  2.216000e+03  2.216000e+03   \n",
       "mean   9.108238e-17  5.859858e-17 -2.310627e-16  1.619242e-16 -1.175353e-16   \n",
       "std    1.000226e+00  1.000226e+00  1.000226e+00  1.000226e+00  1.000226e+00   \n",
       "min   -2.268209e+00 -2.007250e+00 -8.230393e-01 -9.289722e-01 -1.693488e+00   \n",
       "25%   -6.826092e-01 -6.732620e-01 -8.230393e-01 -9.289722e-01 -8.642385e-01   \n",
       "50%   -9.844093e-02 -3.439972e-02 -8.230393e-01 -9.289722e-01 -4.365786e-04   \n",
       "75%    8.195377e-01  6.466600e-01  1.039938e+00  9.090657e-01  8.633654e-01   \n",
       "max    6.327410e+00  2.441328e+01  2.902916e+00  2.747104e+00  1.727167e+00   \n",
       "\n",
       "            grocery  NumDealsPurchases  NumWebPurchases  NumCatalogPurchases  \\\n",
       "count  2.216000e+03       2.216000e+03     2.216000e+03         2.216000e+03   \n",
       "mean   3.612233e-17       1.223700e-16    -1.499252e-16        -1.462428e-16   \n",
       "std    1.000226e+00       1.000226e+00     1.000226e+00         1.000226e+00   \n",
       "min   -8.066125e-01      -1.208121e+00    -1.490800e+00        -9.128373e-01   \n",
       "25%   -7.224404e-01      -6.881759e-01    -7.609619e-01        -9.128373e-01   \n",
       "50%   -4.944744e-01      -1.682312e-01    -3.112352e-02        -2.293274e-01   \n",
       "75%    4.533380e-01       3.517135e-01     6.987149e-01         4.541825e-01   \n",
       "max    5.246761e+00       6.591050e+00     8.362018e+00         8.656301e+00   \n",
       "\n",
       "       NumStorePurchases  NumWebVisitsMonth  month_engaged   early_offer  \\\n",
       "count       2.216000e+03       2.216000e+03   2.216000e+03  2.216000e+03   \n",
       "mean        4.478968e-17       6.773563e-17  -1.764533e-16  1.921848e-16   \n",
       "std         1.000226e+00       1.000226e+00   1.000226e+00  1.000226e+00   \n",
       "min        -1.784893e+00      -2.193591e+00  -1.749275e+00 -3.687909e-01   \n",
       "25%        -8.618303e-01      -9.563810e-01  -8.621608e-01 -3.687909e-01   \n",
       "50%        -2.464554e-01       2.808287e-01   2.495342e-02 -3.687909e-01   \n",
       "75%         6.766069e-01       6.932320e-01   9.120676e-01 -3.687909e-01   \n",
       "max         2.215044e+00       6.054474e+00   1.651329e+00  6.949782e+00   \n",
       "\n",
       "       recent_offer  \n",
       "count  2.216000e+03  \n",
       "mean   3.617243e-17  \n",
       "std    1.000226e+00  \n",
       "min   -4.700377e-01  \n",
       "25%   -4.700377e-01  \n",
       "50%   -4.700377e-01  \n",
       "75%   -4.700377e-01  \n",
       "max    4.271708e+00  "
      ]
     },
     "execution_count": 25,
     "metadata": {},
     "output_type": "execute_result"
    }
   ],
   "source": [
    "da[numeric].describe()"
   ]
  },
  {
   "cell_type": "markdown",
   "metadata": {},
   "source": [
    "# 4.Do Clustering\n",
    "In this section i will tune the hyperparameter for the clustering and do the clustering"
   ]
  },
  {
   "cell_type": "code",
   "execution_count": 26,
   "metadata": {},
   "outputs": [],
   "source": [
    "# the final df\n",
    "exclude=['ID','Year_Birth','Dt_Customer','MntWines','MntFruits','MntMeatProducts','MntFishProducts','MntGoldProds', \n",
    "         'MntSweetProducts','AcceptedCmp1','AcceptedCmp2','AcceptedCmp3','AcceptedCmp4','AcceptedCmp5','Response',\n",
    "         'Z_CostContact','Z_Revenue','last_day','day_engaged']\n",
    "df=da.drop(columns=exclude)"
   ]
  },
  {
   "cell_type": "code",
   "execution_count": 27,
   "metadata": {},
   "outputs": [
    {
     "name": "stdout",
     "output_type": "stream",
     "text": [
      "<class 'pandas.core.frame.DataFrame'>\n",
      "Int64Index: 2216 entries, 0 to 2239\n",
      "Data columns (total 22 columns):\n",
      " #   Column                       Non-Null Count  Dtype  \n",
      "---  ------                       --------------  -----  \n",
      " 0   Income                       2216 non-null   float64\n",
      " 1   Kidhome                      2216 non-null   float64\n",
      " 2   Teenhome                     2216 non-null   float64\n",
      " 3   Recency                      2216 non-null   float64\n",
      " 4   NumDealsPurchases            2216 non-null   float64\n",
      " 5   NumWebPurchases              2216 non-null   float64\n",
      " 6   NumCatalogPurchases          2216 non-null   float64\n",
      " 7   NumStorePurchases            2216 non-null   float64\n",
      " 8   NumWebVisitsMonth            2216 non-null   float64\n",
      " 9   Complain                     2216 non-null   int64  \n",
      " 10  month_engaged                2216 non-null   float64\n",
      " 11  age                          2216 non-null   float64\n",
      " 12  grocery                      2216 non-null   float64\n",
      " 13  early_offer                  2216 non-null   float64\n",
      " 14  recent_offer                 2216 non-null   float64\n",
      " 15  Education_Basic              2216 non-null   uint8  \n",
      " 16  Education_Graduate           2216 non-null   uint8  \n",
      " 17  Education_PhD                2216 non-null   uint8  \n",
      " 18  Marital_Status_Divorced      2216 non-null   uint8  \n",
      " 19  Marital_Status_Relationship  2216 non-null   uint8  \n",
      " 20  Marital_Status_Single        2216 non-null   uint8  \n",
      " 21  Marital_Status_Widow         2216 non-null   uint8  \n",
      "dtypes: float64(14), int64(1), uint8(7)\n",
      "memory usage: 292.1 KB\n"
     ]
    }
   ],
   "source": [
    "df.info()"
   ]
  },
  {
   "cell_type": "markdown",
   "metadata": {},
   "source": [
    "## 4.a.Tune Hyperparameter"
   ]
  },
  {
   "cell_type": "markdown",
   "metadata": {},
   "source": [
    "### K-Means and Hierachical Clustering "
   ]
  },
  {
   "cell_type": "code",
   "execution_count": 28,
   "metadata": {},
   "outputs": [
    {
     "data": {
      "image/png": "[encoded data removed]",
      "text/plain": [
       "<Figure size 432x288 with 1 Axes>"
      ]
     },
     "metadata": {
      "needs_background": "light"
     },
     "output_type": "display_data"
    }
   ],
   "source": [
    "# for k-Means\n",
    "inertia = []\n",
    "list_num_clusters = list(range(1,11))\n",
    "for num_clusters in list_num_clusters:\n",
    "    km = KMeans(n_clusters=num_clusters)\n",
    "    km.fit(df)\n",
    "    inertia.append(km.inertia_)\n",
    "    \n",
    "plt.plot(list_num_clusters,inertia)\n",
    "plt.scatter(list_num_clusters,inertia)\n",
    "plt.xlabel('Number of Clusters')\n",
    "plt.ylabel('Inertia');"
   ]
  },
  {
   "cell_type": "code",
   "execution_count": 29,
   "metadata": {},
   "outputs": [
    {
     "data": {
      "image/png": "[encoded data removed]",
      "text/plain": [
       "<Figure size 576x288 with 1 Axes>"
      ]
     },
     "metadata": {
      "needs_background": "light"
     },
     "output_type": "display_data"
    }
   ],
   "source": [
    "#for k means\n",
    "silhouette_scores = []\n",
    "range_n_clusters = list(range(2,11))\n",
    "\n",
    "# run through the cluster number for the silhoutte score\n",
    "for n_clusters in range_n_clusters:\n",
    "    model = KMeans(n_clusters=n_clusters)\n",
    "    cluster_labels = model.fit_predict(df)\n",
    "    silhouette_avg = silhouette_score(df, cluster_labels)\n",
    "    silhouette_scores.append(silhouette_avg)\n",
    "\n",
    "# Create a plot to visualize the Silhouette Scores\n",
    "plt.figure(figsize=(8, 4))\n",
    "plt.plot(range_n_clusters, silhouette_scores, marker='o')\n",
    "plt.xlabel('Number of Clusters')\n",
    "plt.ylabel('Silhouette Score')\n",
    "plt.title('Silhouette Score for Different Numbers of Clusters')\n",
    "plt.grid(True)\n",
    "plt.show()"
   ]
  },
  {
   "cell_type": "code",
   "execution_count": 30,
   "metadata": {},
   "outputs": [
    {
     "data": {
      "image/png": "[encoded data removed]",
      "text/plain": [
       "<Figure size 576x288 with 1 Axes>"
      ]
     },
     "metadata": {
      "needs_background": "light"
     },
     "output_type": "display_data"
    }
   ],
   "source": [
    "# for hierarchical one\n",
    "silhouette_scores = []\n",
    "range_n_clusters = list(range(2,11))\n",
    "\n",
    "# run through the cluster number for the silhoutte score\n",
    "for n_clusters in range_n_clusters:\n",
    "    model = AgglomerativeClustering(n_clusters=n_clusters)\n",
    "    cluster_labels = model.fit_predict(df)\n",
    "    silhouette_avg = silhouette_score(df, cluster_labels)\n",
    "    silhouette_scores.append(silhouette_avg)\n",
    "\n",
    "# Create a plot to visualize the Silhouette Scores\n",
    "plt.figure(figsize=(8, 4))\n",
    "plt.plot(range_n_clusters, silhouette_scores, marker='o')\n",
    "plt.xlabel('Number of Clusters')\n",
    "plt.ylabel('Silhouette Score')\n",
    "plt.title('Silhouette Score for Different Numbers of Clusters')\n",
    "plt.grid(True)\n",
    "plt.show()"
   ]
  },
  {
   "cell_type": "markdown",
   "metadata": {},
   "source": [
    "### DBSCAN "
   ]
  },
  {
   "cell_type": "code",
   "execution_count": 91,
   "metadata": {},
   "outputs": [
    {
     "data": {
      "image/png": "[encoded data removed]",
      "text/plain": [
       "<Figure size 864x576 with 1 Axes>"
      ]
     },
     "metadata": {
      "needs_background": "light"
     },
     "output_type": "display_data"
    }
   ],
   "source": [
    "# for DBSCAN one\n",
    "silhouette_scores = []\n",
    "range_eps = np.linspace(1,8,50)\n",
    "\n",
    "# run through the cluster number for the silhoutte score\n",
    "for eps in range_eps:\n",
    "    model = DBSCAN(eps=eps)\n",
    "    cluster_labels = model.fit_predict(df)\n",
    "    silhouette_avg = silhouette_score(df, cluster_labels)\n",
    "    silhouette_scores.append(silhouette_avg)\n",
    "    #print(eps)\n",
    "\n",
    "# Create a plot to visualize the Silhouette Scores\n",
    "plt.figure(figsize=(12, 8))\n",
    "plt.plot(range_eps, silhouette_scores, marker='o')\n",
    "plt.xlabel('Epsilon Value')\n",
    "plt.ylabel('Silhouette Score')\n",
    "plt.title('Silhouette Score for Different Epsilon Value')\n",
    "plt.grid(True)\n",
    "plt.show()"
   ]
  },
  {
   "cell_type": "markdown",
   "metadata": {},
   "source": [
    "### Mean Shift"
   ]
  },
  {
   "cell_type": "code",
   "execution_count": 119,
   "metadata": {},
   "outputs": [
    {
     "ename": "KeyboardInterrupt",
     "evalue": "",
     "output_type": "error",
     "traceback": [
      "\u001b[1;31m---------------------------------------------------------------------------\u001b[0m",
      "\u001b[1;31mKeyboardInterrupt\u001b[0m                         Traceback (most recent call last)",
      "\u001b[1;32m<ipython-input-119-5e3d994ec4ad>\u001b[0m in \u001b[0;36m<module>\u001b[1;34m\u001b[0m\n\u001b[0;32m      6\u001b[0m \u001b[1;32mfor\u001b[0m \u001b[0mban\u001b[0m \u001b[1;32min\u001b[0m \u001b[0mrange_bandwidth\u001b[0m\u001b[1;33m:\u001b[0m\u001b[1;33m\u001b[0m\u001b[1;33m\u001b[0m\u001b[0m\n\u001b[0;32m      7\u001b[0m     \u001b[0mmodel\u001b[0m \u001b[1;33m=\u001b[0m \u001b[0mMeanShift\u001b[0m\u001b[1;33m(\u001b[0m\u001b[0mbandwidth\u001b[0m\u001b[1;33m=\u001b[0m\u001b[0mban\u001b[0m\u001b[1;33m)\u001b[0m\u001b[1;33m\u001b[0m\u001b[1;33m\u001b[0m\u001b[0m\n\u001b[1;32m----> 8\u001b[1;33m     \u001b[0mcluster_labels\u001b[0m \u001b[1;33m=\u001b[0m \u001b[0mmodel\u001b[0m\u001b[1;33m.\u001b[0m\u001b[0mfit_predict\u001b[0m\u001b[1;33m(\u001b[0m\u001b[0mdf\u001b[0m\u001b[1;33m)\u001b[0m\u001b[1;33m\u001b[0m\u001b[1;33m\u001b[0m\u001b[0m\n\u001b[0m\u001b[0;32m      9\u001b[0m     \u001b[0msilhouette_avg\u001b[0m \u001b[1;33m=\u001b[0m \u001b[0msilhouette_score\u001b[0m\u001b[1;33m(\u001b[0m\u001b[0mdf\u001b[0m\u001b[1;33m,\u001b[0m \u001b[0mcluster_labels\u001b[0m\u001b[1;33m)\u001b[0m\u001b[1;33m\u001b[0m\u001b[1;33m\u001b[0m\u001b[0m\n\u001b[0;32m     10\u001b[0m     \u001b[0msilhouette_scores\u001b[0m\u001b[1;33m.\u001b[0m\u001b[0mappend\u001b[0m\u001b[1;33m(\u001b[0m\u001b[0msilhouette_avg\u001b[0m\u001b[1;33m)\u001b[0m\u001b[1;33m\u001b[0m\u001b[1;33m\u001b[0m\u001b[0m\n",
      "\u001b[1;32mD:\\Anaconda\\lib\\site-packages\\sklearn\\base.py\u001b[0m in \u001b[0;36mfit_predict\u001b[1;34m(self, X, y)\u001b[0m\n\u001b[0;32m    734\u001b[0m         \u001b[1;31m# non-optimized default implementation; override when a better\u001b[0m\u001b[1;33m\u001b[0m\u001b[1;33m\u001b[0m\u001b[1;33m\u001b[0m\u001b[0m\n\u001b[0;32m    735\u001b[0m         \u001b[1;31m# method is possible for a given clustering algorithm\u001b[0m\u001b[1;33m\u001b[0m\u001b[1;33m\u001b[0m\u001b[1;33m\u001b[0m\u001b[0m\n\u001b[1;32m--> 736\u001b[1;33m         \u001b[0mself\u001b[0m\u001b[1;33m.\u001b[0m\u001b[0mfit\u001b[0m\u001b[1;33m(\u001b[0m\u001b[0mX\u001b[0m\u001b[1;33m)\u001b[0m\u001b[1;33m\u001b[0m\u001b[1;33m\u001b[0m\u001b[0m\n\u001b[0m\u001b[0;32m    737\u001b[0m         \u001b[1;32mreturn\u001b[0m \u001b[0mself\u001b[0m\u001b[1;33m.\u001b[0m\u001b[0mlabels_\u001b[0m\u001b[1;33m\u001b[0m\u001b[1;33m\u001b[0m\u001b[0m\n\u001b[0;32m    738\u001b[0m \u001b[1;33m\u001b[0m\u001b[0m\n",
      "\u001b[1;32mD:\\Anaconda\\lib\\site-packages\\sklearn\\cluster\\_mean_shift.py\u001b[0m in \u001b[0;36mfit\u001b[1;34m(self, X, y)\u001b[0m\n\u001b[0;32m    439\u001b[0m \u001b[1;33m\u001b[0m\u001b[0m\n\u001b[0;32m    440\u001b[0m         \u001b[1;31m# execute iterations on all seeds in parallel\u001b[0m\u001b[1;33m\u001b[0m\u001b[1;33m\u001b[0m\u001b[1;33m\u001b[0m\u001b[0m\n\u001b[1;32m--> 441\u001b[1;33m         all_res = Parallel(n_jobs=self.n_jobs)(\n\u001b[0m\u001b[0;32m    442\u001b[0m             \u001b[0mdelayed\u001b[0m\u001b[1;33m(\u001b[0m\u001b[0m_mean_shift_single_seed\u001b[0m\u001b[1;33m)\u001b[0m\u001b[1;33m(\u001b[0m\u001b[0mseed\u001b[0m\u001b[1;33m,\u001b[0m \u001b[0mX\u001b[0m\u001b[1;33m,\u001b[0m \u001b[0mnbrs\u001b[0m\u001b[1;33m,\u001b[0m \u001b[0mself\u001b[0m\u001b[1;33m.\u001b[0m\u001b[0mmax_iter\u001b[0m\u001b[1;33m)\u001b[0m\u001b[1;33m\u001b[0m\u001b[1;33m\u001b[0m\u001b[0m\n\u001b[0;32m    443\u001b[0m             \u001b[1;32mfor\u001b[0m \u001b[0mseed\u001b[0m \u001b[1;32min\u001b[0m \u001b[0mseeds\u001b[0m\u001b[1;33m\u001b[0m\u001b[1;33m\u001b[0m\u001b[0m\n",
      "\u001b[1;32mD:\\Anaconda\\lib\\site-packages\\joblib\\parallel.py\u001b[0m in \u001b[0;36m__call__\u001b[1;34m(self, iterable)\u001b[0m\n\u001b[0;32m   1861\u001b[0m             \u001b[0moutput\u001b[0m \u001b[1;33m=\u001b[0m \u001b[0mself\u001b[0m\u001b[1;33m.\u001b[0m\u001b[0m_get_sequential_output\u001b[0m\u001b[1;33m(\u001b[0m\u001b[0miterable\u001b[0m\u001b[1;33m)\u001b[0m\u001b[1;33m\u001b[0m\u001b[1;33m\u001b[0m\u001b[0m\n\u001b[0;32m   1862\u001b[0m             \u001b[0mnext\u001b[0m\u001b[1;33m(\u001b[0m\u001b[0moutput\u001b[0m\u001b[1;33m)\u001b[0m\u001b[1;33m\u001b[0m\u001b[1;33m\u001b[0m\u001b[0m\n\u001b[1;32m-> 1863\u001b[1;33m             \u001b[1;32mreturn\u001b[0m \u001b[0moutput\u001b[0m \u001b[1;32mif\u001b[0m \u001b[0mself\u001b[0m\u001b[1;33m.\u001b[0m\u001b[0mreturn_generator\u001b[0m \u001b[1;32melse\u001b[0m \u001b[0mlist\u001b[0m\u001b[1;33m(\u001b[0m\u001b[0moutput\u001b[0m\u001b[1;33m)\u001b[0m\u001b[1;33m\u001b[0m\u001b[1;33m\u001b[0m\u001b[0m\n\u001b[0m\u001b[0;32m   1864\u001b[0m \u001b[1;33m\u001b[0m\u001b[0m\n\u001b[0;32m   1865\u001b[0m         \u001b[1;31m# Let's create an ID that uniquely identifies the current call. If the\u001b[0m\u001b[1;33m\u001b[0m\u001b[1;33m\u001b[0m\u001b[1;33m\u001b[0m\u001b[0m\n",
      "\u001b[1;32mD:\\Anaconda\\lib\\site-packages\\joblib\\parallel.py\u001b[0m in \u001b[0;36m_get_sequential_output\u001b[1;34m(self, iterable)\u001b[0m\n\u001b[0;32m   1790\u001b[0m                 \u001b[0mself\u001b[0m\u001b[1;33m.\u001b[0m\u001b[0mn_dispatched_batches\u001b[0m \u001b[1;33m+=\u001b[0m \u001b[1;36m1\u001b[0m\u001b[1;33m\u001b[0m\u001b[1;33m\u001b[0m\u001b[0m\n\u001b[0;32m   1791\u001b[0m                 \u001b[0mself\u001b[0m\u001b[1;33m.\u001b[0m\u001b[0mn_dispatched_tasks\u001b[0m \u001b[1;33m+=\u001b[0m \u001b[1;36m1\u001b[0m\u001b[1;33m\u001b[0m\u001b[1;33m\u001b[0m\u001b[0m\n\u001b[1;32m-> 1792\u001b[1;33m                 \u001b[0mres\u001b[0m \u001b[1;33m=\u001b[0m \u001b[0mfunc\u001b[0m\u001b[1;33m(\u001b[0m\u001b[1;33m*\u001b[0m\u001b[0margs\u001b[0m\u001b[1;33m,\u001b[0m \u001b[1;33m**\u001b[0m\u001b[0mkwargs\u001b[0m\u001b[1;33m)\u001b[0m\u001b[1;33m\u001b[0m\u001b[1;33m\u001b[0m\u001b[0m\n\u001b[0m\u001b[0;32m   1793\u001b[0m                 \u001b[0mself\u001b[0m\u001b[1;33m.\u001b[0m\u001b[0mn_completed_tasks\u001b[0m \u001b[1;33m+=\u001b[0m \u001b[1;36m1\u001b[0m\u001b[1;33m\u001b[0m\u001b[1;33m\u001b[0m\u001b[0m\n\u001b[0;32m   1794\u001b[0m                 \u001b[0mself\u001b[0m\u001b[1;33m.\u001b[0m\u001b[0mprint_progress\u001b[0m\u001b[1;33m(\u001b[0m\u001b[1;33m)\u001b[0m\u001b[1;33m\u001b[0m\u001b[1;33m\u001b[0m\u001b[0m\n",
      "\u001b[1;32mD:\\Anaconda\\lib\\site-packages\\sklearn\\utils\\fixes.py\u001b[0m in \u001b[0;36m__call__\u001b[1;34m(self, *args, **kwargs)\u001b[0m\n\u001b[0;32m    214\u001b[0m     \u001b[1;32mdef\u001b[0m \u001b[0m__call__\u001b[0m\u001b[1;33m(\u001b[0m\u001b[0mself\u001b[0m\u001b[1;33m,\u001b[0m \u001b[1;33m*\u001b[0m\u001b[0margs\u001b[0m\u001b[1;33m,\u001b[0m \u001b[1;33m**\u001b[0m\u001b[0mkwargs\u001b[0m\u001b[1;33m)\u001b[0m\u001b[1;33m:\u001b[0m\u001b[1;33m\u001b[0m\u001b[1;33m\u001b[0m\u001b[0m\n\u001b[0;32m    215\u001b[0m         \u001b[1;32mwith\u001b[0m \u001b[0mconfig_context\u001b[0m\u001b[1;33m(\u001b[0m\u001b[1;33m**\u001b[0m\u001b[0mself\u001b[0m\u001b[1;33m.\u001b[0m\u001b[0mconfig\u001b[0m\u001b[1;33m)\u001b[0m\u001b[1;33m:\u001b[0m\u001b[1;33m\u001b[0m\u001b[1;33m\u001b[0m\u001b[0m\n\u001b[1;32m--> 216\u001b[1;33m             \u001b[1;32mreturn\u001b[0m \u001b[0mself\u001b[0m\u001b[1;33m.\u001b[0m\u001b[0mfunction\u001b[0m\u001b[1;33m(\u001b[0m\u001b[1;33m*\u001b[0m\u001b[0margs\u001b[0m\u001b[1;33m,\u001b[0m \u001b[1;33m**\u001b[0m\u001b[0mkwargs\u001b[0m\u001b[1;33m)\u001b[0m\u001b[1;33m\u001b[0m\u001b[1;33m\u001b[0m\u001b[0m\n\u001b[0m\u001b[0;32m    217\u001b[0m \u001b[1;33m\u001b[0m\u001b[0m\n\u001b[0;32m    218\u001b[0m \u001b[1;33m\u001b[0m\u001b[0m\n",
      "\u001b[1;32mD:\\Anaconda\\lib\\site-packages\\sklearn\\cluster\\_mean_shift.py\u001b[0m in \u001b[0;36m_mean_shift_single_seed\u001b[1;34m(my_mean, X, nbrs, max_iter)\u001b[0m\n\u001b[0;32m     97\u001b[0m             \u001b[1;32mbreak\u001b[0m  \u001b[1;31m# Depending on seeding strategy this condition may occur\u001b[0m\u001b[1;33m\u001b[0m\u001b[1;33m\u001b[0m\u001b[0m\n\u001b[0;32m     98\u001b[0m         \u001b[0mmy_old_mean\u001b[0m \u001b[1;33m=\u001b[0m \u001b[0mmy_mean\u001b[0m  \u001b[1;31m# save the old mean\u001b[0m\u001b[1;33m\u001b[0m\u001b[1;33m\u001b[0m\u001b[0m\n\u001b[1;32m---> 99\u001b[1;33m         \u001b[0mmy_mean\u001b[0m \u001b[1;33m=\u001b[0m \u001b[0mnp\u001b[0m\u001b[1;33m.\u001b[0m\u001b[0mmean\u001b[0m\u001b[1;33m(\u001b[0m\u001b[0mpoints_within\u001b[0m\u001b[1;33m,\u001b[0m \u001b[0maxis\u001b[0m\u001b[1;33m=\u001b[0m\u001b[1;36m0\u001b[0m\u001b[1;33m)\u001b[0m\u001b[1;33m\u001b[0m\u001b[1;33m\u001b[0m\u001b[0m\n\u001b[0m\u001b[0;32m    100\u001b[0m         \u001b[1;31m# If converged or at max_iter, adds the cluster\u001b[0m\u001b[1;33m\u001b[0m\u001b[1;33m\u001b[0m\u001b[1;33m\u001b[0m\u001b[0m\n\u001b[0;32m    101\u001b[0m         if (\n",
      "\u001b[1;32m<__array_function__ internals>\u001b[0m in \u001b[0;36mmean\u001b[1;34m(*args, **kwargs)\u001b[0m\n",
      "\u001b[1;32mD:\\Anaconda\\lib\\site-packages\\numpy\\core\\fromnumeric.py\u001b[0m in \u001b[0;36mmean\u001b[1;34m(a, axis, dtype, out, keepdims)\u001b[0m\n\u001b[0;32m   3370\u001b[0m             \u001b[1;32mreturn\u001b[0m \u001b[0mmean\u001b[0m\u001b[1;33m(\u001b[0m\u001b[0maxis\u001b[0m\u001b[1;33m=\u001b[0m\u001b[0maxis\u001b[0m\u001b[1;33m,\u001b[0m \u001b[0mdtype\u001b[0m\u001b[1;33m=\u001b[0m\u001b[0mdtype\u001b[0m\u001b[1;33m,\u001b[0m \u001b[0mout\u001b[0m\u001b[1;33m=\u001b[0m\u001b[0mout\u001b[0m\u001b[1;33m,\u001b[0m \u001b[1;33m**\u001b[0m\u001b[0mkwargs\u001b[0m\u001b[1;33m)\u001b[0m\u001b[1;33m\u001b[0m\u001b[1;33m\u001b[0m\u001b[0m\n\u001b[0;32m   3371\u001b[0m \u001b[1;33m\u001b[0m\u001b[0m\n\u001b[1;32m-> 3372\u001b[1;33m     return _methods._mean(a, axis=axis, dtype=dtype,\n\u001b[0m\u001b[0;32m   3373\u001b[0m                           out=out, **kwargs)\n\u001b[0;32m   3374\u001b[0m \u001b[1;33m\u001b[0m\u001b[0m\n",
      "\u001b[1;32mD:\\Anaconda\\lib\\site-packages\\numpy\\core\\_methods.py\u001b[0m in \u001b[0;36m_mean\u001b[1;34m(a, axis, dtype, out, keepdims)\u001b[0m\n\u001b[0;32m    158\u001b[0m             \u001b[0mis_float16_result\u001b[0m \u001b[1;33m=\u001b[0m \u001b[1;32mTrue\u001b[0m\u001b[1;33m\u001b[0m\u001b[1;33m\u001b[0m\u001b[0m\n\u001b[0;32m    159\u001b[0m \u001b[1;33m\u001b[0m\u001b[0m\n\u001b[1;32m--> 160\u001b[1;33m     \u001b[0mret\u001b[0m \u001b[1;33m=\u001b[0m \u001b[0mumr_sum\u001b[0m\u001b[1;33m(\u001b[0m\u001b[0marr\u001b[0m\u001b[1;33m,\u001b[0m \u001b[0maxis\u001b[0m\u001b[1;33m,\u001b[0m \u001b[0mdtype\u001b[0m\u001b[1;33m,\u001b[0m \u001b[0mout\u001b[0m\u001b[1;33m,\u001b[0m \u001b[0mkeepdims\u001b[0m\u001b[1;33m)\u001b[0m\u001b[1;33m\u001b[0m\u001b[1;33m\u001b[0m\u001b[0m\n\u001b[0m\u001b[0;32m    161\u001b[0m     \u001b[1;32mif\u001b[0m \u001b[0misinstance\u001b[0m\u001b[1;33m(\u001b[0m\u001b[0mret\u001b[0m\u001b[1;33m,\u001b[0m \u001b[0mmu\u001b[0m\u001b[1;33m.\u001b[0m\u001b[0mndarray\u001b[0m\u001b[1;33m)\u001b[0m\u001b[1;33m:\u001b[0m\u001b[1;33m\u001b[0m\u001b[1;33m\u001b[0m\u001b[0m\n\u001b[0;32m    162\u001b[0m         ret = um.true_divide(\n",
      "\u001b[1;31mKeyboardInterrupt\u001b[0m: "
     ]
    }
   ],
   "source": [
    "# for Mean Shift one\n",
    "silhouette_scores = []\n",
    "range_bandwidth = np.linspace(4,15,50)\n",
    "\n",
    "# run through the cluster number for the silhoutte score\n",
    "for ban in range_bandwidth:\n",
    "    model = MeanShift(bandwidth=ban)\n",
    "    cluster_labels = model.fit_predict(df)\n",
    "    silhouette_avg = silhouette_score(df, cluster_labels)\n",
    "    silhouette_scores.append(silhouette_avg)\n",
    "    #print(eps)\n",
    "\n",
    "# Create a plot to visualize the Silhouette Scores\n",
    "plt.figure(figsize=(12, 8))\n",
    "plt.plot(range_eps, silhouette_scores, marker='o')\n",
    "plt.xlabel('Epsilon Value')\n",
    "plt.ylabel('Silhouette Score')\n",
    "plt.title('Silhouette Score for Different Bandwidth Value')\n",
    "plt.grid(True)\n",
    "plt.show()"
   ]
  },
  {
   "cell_type": "markdown",
   "metadata": {},
   "source": [
    "## 4.b. Clustering\n",
    "In this section i will use the resulting parameter in the above plot to the clustering it self"
   ]
  },
  {
   "cell_type": "markdown",
   "metadata": {},
   "source": [
    "### K-Means\n",
    "From the elbow method it could be said that 2 cluster is the point in which the error decrease will stagnated. However the sihoutte score suggest that i should choose 3 because the cluster 3 will stagnate the score in silhoutte score before taking a dive after 4 cluster."
   ]
  },
  {
   "cell_type": "code",
   "execution_count": 120,
   "metadata": {},
   "outputs": [],
   "source": [
    "km=KMeans(n_clusters=3)\n",
    "\n",
    "km=km.fit(df)\n",
    "data_encoded['Kmeans']=km.predict(df)"
   ]
  },
  {
   "cell_type": "markdown",
   "metadata": {},
   "source": [
    "### Hierarchical Clustering\n",
    "From the plot it silhoutte score, it could be said that the 3 cluster is also the value in which the optimal sihoutte score can get because after the 4 is also going to plunge in value"
   ]
  },
  {
   "cell_type": "code",
   "execution_count": 121,
   "metadata": {},
   "outputs": [],
   "source": [
    "agg=AgglomerativeClustering(n_clusters=3)\n",
    "\n",
    "agg=agg.fit(df)\n",
    "data_encoded['Hierarchical']=agg.fit_predict(df)"
   ]
  },
  {
   "cell_type": "code",
   "execution_count": 122,
   "metadata": {},
   "outputs": [
    {
     "data": {
      "image/png": "[encoded data removed]",
      "text/plain": [
       "<Figure size 432x288 with 1 Axes>"
      ]
     },
     "metadata": {
      "needs_background": "light"
     },
     "output_type": "display_data"
    }
   ],
   "source": [
    "Z = sch.linkage(df, method='ward')\n",
    "\n",
    "dendrogram = sch.dendrogram(Z, truncate_mode='level', p=5)\n",
    "plt.xlabel('Data Points')\n",
    "plt.ylabel('Distance')\n",
    "plt.title('Dendrogram')\n",
    "plt.show()"
   ]
  },
  {
   "cell_type": "code",
   "execution_count": 123,
   "metadata": {},
   "outputs": [
    {
     "data": {
      "image/png": "[encoded data removed]",
      "text/plain": [
       "<Figure size 432x288 with 1 Axes>"
      ]
     },
     "metadata": {
      "needs_background": "light"
     },
     "output_type": "display_data"
    }
   ],
   "source": [
    "# zoom up the subcluster\n",
    "dendrogram = sch.dendrogram(Z, truncate_mode='level', p=5)\n",
    "plt.xlabel('Data Points')\n",
    "plt.ylabel('Distance')\n",
    "plt.ylim(30,50)\n",
    "plt.title('Dendrogram (Top 3 Layers)')\n",
    "plt.show()"
   ]
  },
  {
   "cell_type": "code",
   "execution_count": 124,
   "metadata": {},
   "outputs": [
    {
     "name": "stdout",
     "output_type": "stream",
     "text": [
      "Number of subclusters: 9\n"
     ]
    }
   ],
   "source": [
    "cutting_threshold = 30  # Adjust this value based on your visual inspection\n",
    "\n",
    "# Cut the dendrogram and get cluster assignments at that level\n",
    "subcluster_assignments = sch.fcluster(Z, t=cutting_threshold, criterion='distance')\n",
    "\n",
    "# Now, subcluster_assignments contains the subcluster assignments\n",
    "unique_subclusters = np.unique(subcluster_assignments)\n",
    "num_subclusters = len(unique_subclusters)\n",
    "\n",
    "print(f\"Number of subclusters: {num_subclusters}\")\n",
    "data_encoded['Hierarchical_subcluster']=subcluster_assignments"
   ]
  },
  {
   "cell_type": "markdown",
   "metadata": {},
   "source": [
    "### DBSCAN\n",
    "From the plot in sihoutte score, i see that the score will be stagnated after epilon value of 5 therefore i will use that number"
   ]
  },
  {
   "cell_type": "code",
   "execution_count": 125,
   "metadata": {},
   "outputs": [],
   "source": [
    "db=DBSCAN(eps=5)\n",
    "\n",
    "#fir and predict\n",
    "db=db.fit(df)\n",
    "# krn algoritma hanya buat cluster bukan lgsg mengklasifikasikan maka\n",
    "data_encoded['DBSCAN']=db.labels_"
   ]
  },
  {
   "cell_type": "code",
   "execution_count": 126,
   "metadata": {},
   "outputs": [
    {
     "name": "stdout",
     "output_type": "stream",
     "text": [
      "DBSCAN found 1 clusters and 12 points of noise.\n"
     ]
    }
   ],
   "source": [
    "# see how many cluster it \n",
    "print(f'DBSCAN found {len(set(db.labels_) - set([-1]))} clusters and {(db.labels_ == -1).sum()} points of noise.')"
   ]
  },
  {
   "cell_type": "markdown",
   "metadata": {},
   "source": [
    "### Mean Shift\n",
    "I will use bandwidth value of 6 because afterthat the sihoutte score is stagnating."
   ]
  },
  {
   "cell_type": "code",
   "execution_count": 127,
   "metadata": {},
   "outputs": [],
   "source": [
    "ms=MeanShift(bandwidth=6)\n",
    "\n",
    "ms=ms.fit(df)\n",
    "data_encoded['MeanShift']=ms.predict(df)"
   ]
  },
  {
   "cell_type": "code",
   "execution_count": 128,
   "metadata": {},
   "outputs": [
    {
     "data": {
      "text/plain": [
       "0    2205\n",
       "1       3\n",
       "2       3\n",
       "3       2\n",
       "5       1\n",
       "6       1\n",
       "4       1\n",
       "Name: MeanShift, dtype: int64"
      ]
     },
     "execution_count": 128,
     "metadata": {},
     "output_type": "execute_result"
    }
   ],
   "source": [
    "data_encoded['MeanShift'].value_counts()"
   ]
  },
  {
   "cell_type": "markdown",
   "metadata": {},
   "source": [
    "## 4.c.Conclusion\n",
    "From the above result, the DBSCAN and MeanShift algorithm could not be discussed later on because they only produced 1 effective cluster anyway. This suggest that my data is perhaps not dense enough or the hyperparameter is too large. In the next section, i shall discussed the comparative result of K-Means and Hierarchical Clustering. "
   ]
  },
  {
   "cell_type": "markdown",
   "metadata": {},
   "source": [
    "# 5.Result Analysis\n",
    "In this section, i will do data analysis with the help of visualisation to get understanding about the characteristics created by each cluster's algorithm. The output of this analysis will be a conclusion of the characteristics in each cluster. The data used for the analysis will be the data before the scaling so that i know the exact number for the numerical variable. I hope to see quite distinct characteristics between cluster"
   ]
  },
  {
   "cell_type": "code",
   "execution_count": 129,
   "metadata": {},
   "outputs": [],
   "source": [
    "# the data should use the already preprocessed without scaling\n",
    "exclude=['ID','Year_Birth','Dt_Customer','MntWines','MntFruits','MntMeatProducts','MntFishProducts','MntGoldProds',\n",
    "         'MntSweetProducts','AcceptedCmp1','AcceptedCmp2','AcceptedCmp3','AcceptedCmp4','AcceptedCmp5','Response',\n",
    "         'Z_CostContact','Z_Revenue','last_day','day_engaged']\n",
    "DATA=data_encoded.drop(columns=exclude)"
   ]
  },
  {
   "cell_type": "code",
   "execution_count": 130,
   "metadata": {},
   "outputs": [],
   "source": [
    "# reverting the one hot encoding for education and marital status\n",
    "# for education\n",
    "enco=['Education_Basic','Education_Graduate', 'Education_PhD']\n",
    "DATA['Education']=DATA[enco].idxmax(axis=1)\n",
    "DATA['Education'] = DATA['Education'].str.replace('Education_', '')\n",
    "\n",
    "# Drop the original one-hot encoded columns\n",
    "DATA.drop(columns=enco, inplace=True)"
   ]
  },
  {
   "cell_type": "code",
   "execution_count": 131,
   "metadata": {},
   "outputs": [],
   "source": [
    "# for marital status\n",
    "enco1=['Marital_Status_Divorced','Marital_Status_Relationship', 'Marital_Status_Single','Marital_Status_Widow']\n",
    "DATA['Marital_Status']=DATA[enco1].idxmax(axis=1)\n",
    "DATA['Marital_Status'] = DATA['Marital_Status'].str.replace('Marital_Status_', '')\n",
    "\n",
    "# Drop the original one-hot encoded columns\n",
    "DATA.drop(columns=enco1, inplace=True)"
   ]
  },
  {
   "cell_type": "code",
   "execution_count": 132,
   "metadata": {},
   "outputs": [
    {
     "data": {
      "text/plain": [
       "Index(['Income', 'Kidhome', 'Teenhome', 'Recency', 'NumDealsPurchases',\n",
       "       'NumWebPurchases', 'NumCatalogPurchases', 'NumStorePurchases',\n",
       "       'NumWebVisitsMonth', 'Complain', 'month_engaged', 'age', 'grocery',\n",
       "       'early_offer', 'recent_offer', 'Kmeans', 'Hierarchical',\n",
       "       'Hierarchical_subcluster', 'DBSCAN', 'MeanShift', 'Education',\n",
       "       'Marital_Status'],\n",
       "      dtype='object')"
      ]
     },
     "execution_count": 132,
     "metadata": {},
     "output_type": "execute_result"
    }
   ],
   "source": [
    "DATA.columns"
   ]
  },
  {
   "cell_type": "code",
   "execution_count": 133,
   "metadata": {},
   "outputs": [],
   "source": [
    "# dividing characteristics like the data description\n",
    "people=['Income','age','Education', 'Marital_Status', 'Kidhome', 'Teenhome', 'Recency','month_engaged',\n",
    "        'Kmeans','Hierarchical', 'Hierarchical_subcluster']\n",
    "product=['grocery','Kmeans','Hierarchical', 'Hierarchical_subcluster']\n",
    "promo=['early_offer', 'recent_offer','NumDealsPurchases','Kmeans','Hierarchical', 'Hierarchical_subcluster']\n",
    "place=['NumWebPurchases', 'NumCatalogPurchases','NumStorePurchases', 'NumWebVisitsMonth','Kmeans','Hierarchical', \n",
    "       'Hierarchical_subcluster']"
   ]
  },
  {
   "cell_type": "code",
   "execution_count": 134,
   "metadata": {},
   "outputs": [],
   "source": [
    "rem=['Education', 'Marital_Status', 'Kidhome', 'Teenhome']\n",
    "num_people=[x for x in people if x not in rem]"
   ]
  },
  {
   "cell_type": "markdown",
   "metadata": {},
   "source": [
    "## 5.a.People"
   ]
  },
  {
   "cell_type": "markdown",
   "metadata": {},
   "source": [
    "### KMeans"
   ]
  },
  {
   "cell_type": "code",
   "execution_count": 150,
   "metadata": {},
   "outputs": [
    {
     "name": "stdout",
     "output_type": "stream",
     "text": [
      "Summary for: Income\n",
      "        count          mean           std     min       25%      50%      75%  \\\n",
      "Kmeans                                                                          \n",
      "0       520.0  78329.765385  28855.969713  2447.0  70512.00  77362.5  82631.5   \n",
      "1       990.0  34005.625253  13101.581311  1730.0  25371.00  34011.0  41628.0   \n",
      "2       706.0  58615.951841  11290.646361  4428.0  51208.75  58984.5  65838.0   \n",
      "\n",
      "             max  \n",
      "Kmeans            \n",
      "0       666666.0  \n",
      "1       162397.0  \n",
      "2       113734.0  \n",
      "---------------------------------------------------------\n",
      "Summary for: age\n",
      "        count       mean        std   min   25%   50%   75%    max\n",
      "Kmeans                                                            \n",
      "0       520.0  48.203846  14.002091  22.0  37.0  47.0  60.0  118.0\n",
      "1       990.0  44.784848  10.977833  21.0  37.0  44.0  51.0  117.0\n",
      "2       706.0  52.922096   9.961822  25.0  45.0  52.0  61.0  124.0\n",
      "---------------------------------------------------------\n",
      "Summary for: Recency\n",
      "        count       mean        std  min   25%   50%    75%   max\n",
      "Kmeans                                                           \n",
      "0       520.0  49.369231  29.321653  0.0  23.0  52.0  74.00  99.0\n",
      "1       990.0  49.336364  28.935810  0.0  25.0  49.0  76.00  99.0\n",
      "2       706.0  48.296034  28.716445  0.0  24.0  50.0  71.75  99.0\n",
      "---------------------------------------------------------\n",
      "Summary for: month_engaged\n",
      "        count       mean       std   min   25%   50%   75%   max\n",
      "Kmeans                                                          \n",
      "0       520.0  41.305769  6.858940  30.0  35.0  41.0  47.0  53.0\n",
      "1       990.0  40.795960  6.700647  30.0  35.0  40.0  47.0  53.0\n",
      "2       706.0  43.669972  6.409003  30.0  39.0  44.0  49.0  53.0\n",
      "---------------------------------------------------------\n"
     ]
    }
   ],
   "source": [
    "num_person=['Income','age','Recency','month_engaged']\n",
    "for col in num_person:\n",
    "    summary_stats = DATA.groupby('Kmeans')[col].describe()\n",
    "    print(f'Summary for:',col)\n",
    "    print(summary_stats)\n",
    "    print('---------------------------------------------------------')"
   ]
  },
  {
   "cell_type": "code",
   "execution_count": 146,
   "metadata": {},
   "outputs": [
    {
     "data": {
      "image/png": "[encoded data removed]",
      "text/plain": [
       "<Figure size 864x576 with 4 Axes>"
      ]
     },
     "metadata": {
      "needs_background": "light"
     },
     "output_type": "display_data"
    }
   ],
   "source": [
    "row=2\n",
    "col=2\n",
    "fig, axes = plt.subplots(row, col,figsize=(12,8))\n",
    "plt.subplots_adjust(hspace=0.2) \n",
    "#plt.figure(figsize=(4,3))\n",
    "for i in range(row):\n",
    "    for j in range(col):\n",
    "        plt.sca(axes[i][j])\n",
    "        sns.boxplot(data=DATA, y=num_people[i*col+j],x='Kmeans')\n",
    "plt.show()"
   ]
  },
  {
   "cell_type": "code",
   "execution_count": 185,
   "metadata": {},
   "outputs": [
    {
     "data": {
      "image/png": "[encoded data removed]",
      "text/plain": [
       "<Figure size 864x576 with 4 Axes>"
      ]
     },
     "metadata": {
      "needs_background": "light"
     },
     "output_type": "display_data"
    }
   ],
   "source": [
    "row=2\n",
    "col=2\n",
    "fig, axes = plt.subplots(row, col,figsize=(12,8))\n",
    "plt.subplots_adjust(hspace=0.2) \n",
    "#plt.figure(figsize=(4,3))\n",
    "for i in range(row):\n",
    "    for j in range(col):\n",
    "        pivot=DATA.groupby(['Kmeans',rem[i*col+j]]).size().unstack().fillna(0)\n",
    "        pivot_percent=pivot.divide(pivot.sum(axis=1),axis=0)\n",
    "\n",
    "        pivot_percent.plot(kind='bar',stacked=False,ax=axes[i,j])\n",
    "plt.show()"
   ]
  },
  {
   "cell_type": "code",
   "execution_count": 192,
   "metadata": {},
   "outputs": [
    {
     "data": {
      "image/png": "[encoded data removed]",
      "text/plain": [
       "<Figure size 864x576 with 4 Axes>"
      ]
     },
     "metadata": {
      "needs_background": "light"
     },
     "output_type": "display_data"
    }
   ],
   "source": [
    "row=2\n",
    "col=2\n",
    "fig, axes = plt.subplots(row, col,figsize=(12,8))\n",
    "plt.subplots_adjust(wspace=0.4) \n",
    "#plt.figure(figsize=(4,3))\n",
    "for i in range(row):\n",
    "    for j in range(col):\n",
    "        pivot=DATA.groupby([rem[i*col+j],'Kmeans']).size().unstack().fillna(0)\n",
    "        pivot_percent=pivot.divide(pivot.sum(axis=1),axis=0)\n",
    "\n",
    "        pivot_percent.plot(kind='barh',stacked=True,ax=axes[i,j])\n",
    "plt.show()"
   ]
  },
  {
   "cell_type": "markdown",
   "metadata": {},
   "source": [
    "From the result of visualisation above, here is the characteristics of each cluster (with the exception of rencency):\n",
    "- **Cluster 0**: This cluster composed of the second oldest adult (but also has the most spread age) with the highest income of any cluster. It also has the highest level of graduate and second most of PhD while also is the cluster with the highest level of single. It does dominated by people who has or in the past has couple (relationship, widow, and divorced) but it also the cluster with childless adult or person (because both person who has or were having couple and single didn't have any kid or teen). In a conclusion, this cluster is mostly high income, has sufficient education (Master level), and childless with quite diverse age. This high income is perhaps due to the less burden of not having a child but can also suggest that the people here are relatively wealthy with their money belonging truly to themself.\n",
    "\n",
    "- **Cluster 1**: This cluster is the largest by count. This cluster composed of the youngest adult (with most concentrated age) with the lowest income of any cluster. It is also cluster with the most people that has people with basic education, the second highest in terms of PhD and Master level education (so in average has the lowest educational level of any cluster). It has the second most in terms of level relationship and single status with also the highest level of divorced and the lowest widow. It has the most kids and the second highest teen but in total the highest ammount of children from any group. In conclusion, the people in this group is the youngest, the lowest income and educational level, has the highest burden for children since they has the most kids (the teen in the near future could be independent) but present the most potential to grow as perhaps their children could also become customer and also their young age mean that they still can develop better. \n",
    "\n",
    "- **Cluster 2**: This cluster is the oldest, has the second highest income, and also has the most teen which suggest that this cluster will has less burden in near future. It has the highest ammoung of PhD and in average the highest educational level which is logical since they also is the oldest group. It is the group with the most trouble in marriage both divorced and widowed but also the lowest that has single status (once again because old). In conclusion, this cluster is old, matured, has children but in the near future could be adult, and also the earliest in touch with the company."
   ]
  },
  {
   "cell_type": "markdown",
   "metadata": {},
   "source": [
    "### Hierarchical Agglomerative Clustering"
   ]
  },
  {
   "cell_type": "code",
   "execution_count": 193,
   "metadata": {},
   "outputs": [
    {
     "name": "stdout",
     "output_type": "stream",
     "text": [
      "Summary for: Income\n",
      "               count          mean           std     min      25%      50%  \\\n",
      "Hierarchical                                                                 \n",
      "0              465.0  78766.713978  29888.942534  2447.0  70666.0  78128.0   \n",
      "1             1012.0  35280.549407  14874.469292  3502.0  25814.5  34499.0   \n",
      "2              739.0  58794.953992  12503.654085  1730.0  51231.0  59354.0   \n",
      "\n",
      "                  75%       max  \n",
      "Hierarchical                     \n",
      "0             83145.0  666666.0  \n",
      "1             42665.5  162397.0  \n",
      "2             66966.0  113734.0  \n",
      "---------------------------------------------------------\n",
      "Summary for: age\n",
      "               count       mean        std   min   25%   50%    75%    max\n",
      "Hierarchical                                                              \n",
      "0              465.0  49.490323  14.963476  22.0  37.0  48.0  61.00  124.0\n",
      "1             1012.0  45.762846  11.198023  21.0  38.0  44.5  53.25   77.0\n",
      "2              739.0  50.664411  10.164819  25.0  43.0  50.0  59.00   74.0\n",
      "---------------------------------------------------------\n",
      "Summary for: Recency\n",
      "               count       mean        std  min   25%   50%   75%   max\n",
      "Hierarchical                                                           \n",
      "0              465.0  50.008602  28.977770  0.0  24.0  53.0  74.0  99.0\n",
      "1             1012.0  48.896245  28.855863  0.0  24.0  48.5  75.0  99.0\n",
      "2              739.0  48.545332  29.080377  0.0  24.0  50.0  72.0  99.0\n",
      "---------------------------------------------------------\n",
      "Summary for: month_engaged\n",
      "               count       mean       std   min   25%   50%   75%   max\n",
      "Hierarchical                                                           \n",
      "0              465.0  41.501075  6.871708  30.0  36.0  41.0  47.0  53.0\n",
      "1             1012.0  40.535573  6.609626  30.0  35.0  40.0  46.0  53.0\n",
      "2              739.0  43.813261  6.443441  30.0  39.0  45.0  49.0  53.0\n",
      "---------------------------------------------------------\n"
     ]
    }
   ],
   "source": [
    "num_person=['Income','age','Recency','month_engaged']\n",
    "for col in num_person:\n",
    "    summary_stats = DATA.groupby('Hierarchical')[col].describe()\n",
    "    print(f'Summary for:',col)\n",
    "    print(summary_stats)\n",
    "    print('---------------------------------------------------------')"
   ]
  },
  {
   "cell_type": "code",
   "execution_count": 194,
   "metadata": {},
   "outputs": [
    {
     "data": {
      "image/png": "[encoded data removed]",
      "text/plain": [
       "<Figure size 864x576 with 4 Axes>"
      ]
     },
     "metadata": {
      "needs_background": "light"
     },
     "output_type": "display_data"
    }
   ],
   "source": [
    "row=2\n",
    "col=2\n",
    "fig, axes = plt.subplots(row, col,figsize=(12,8))\n",
    "plt.subplots_adjust(hspace=0.2) \n",
    "#plt.figure(figsize=(4,3))\n",
    "for i in range(row):\n",
    "    for j in range(col):\n",
    "        plt.sca(axes[i][j])\n",
    "        sns.boxplot(data=DATA, y=num_people[i*col+j],x='Hierarchical')\n",
    "plt.show()"
   ]
  },
  {
   "cell_type": "code",
   "execution_count": 195,
   "metadata": {},
   "outputs": [
    {
     "data": {
      "image/png": "[encoded data removed]",
      "text/plain": [
       "<Figure size 864x576 with 4 Axes>"
      ]
     },
     "metadata": {
      "needs_background": "light"
     },
     "output_type": "display_data"
    }
   ],
   "source": [
    "# make plot to see composition of each cluster \n",
    "row=2\n",
    "col=2\n",
    "fig, axes = plt.subplots(row, col,figsize=(12,8))\n",
    "plt.subplots_adjust(hspace=0.2) \n",
    "#plt.figure(figsize=(4,3))\n",
    "for i in range(row):\n",
    "    for j in range(col):\n",
    "        pivot=DATA.groupby(['Hierarchical',rem[i*col+j]]).size().unstack().fillna(0)\n",
    "        pivot_percent=pivot.divide(pivot.sum(axis=1),axis=0)\n",
    "\n",
    "        pivot_percent.plot(kind='bar',stacked=False,ax=axes[i,j])\n",
    "plt.show()"
   ]
  },
  {
   "cell_type": "code",
   "execution_count": 196,
   "metadata": {},
   "outputs": [
    {
     "data": {
      "image/png": "[encoded data removed]",
      "text/plain": [
       "<Figure size 864x576 with 4 Axes>"
      ]
     },
     "metadata": {
      "needs_background": "light"
     },
     "output_type": "display_data"
    }
   ],
   "source": [
    "# make plot to see distribution of each category in the variable to each cluster\n",
    "row=2\n",
    "col=2\n",
    "fig, axes = plt.subplots(row, col,figsize=(12,8))\n",
    "plt.subplots_adjust(wspace=0.4) \n",
    "#plt.figure(figsize=(4,3))\n",
    "for i in range(row):\n",
    "    for j in range(col):\n",
    "        pivot=DATA.groupby([rem[i*col+j],'Hierarchical']).size().unstack().fillna(0)\n",
    "        pivot_percent=pivot.divide(pivot.sum(axis=1),axis=0)\n",
    "\n",
    "        pivot_percent.plot(kind='barh',stacked=True,ax=axes[i,j])\n",
    "plt.show()"
   ]
  },
  {
   "cell_type": "markdown",
   "metadata": {},
   "source": [
    "The result of hierarchical clustering are almost identical to the K-means with the exception of month engaged and age\n",
    "- **Cluster 0**: It become the oldest (perhaps? the plot is to closely tied) cluster and with the second earliest touch with the company\n",
    "- **Cluster 1**: It is the most recent to be in touvh with the company and still the youngest\n",
    "- **Cluster 2**: It is still the earliest to be in touvh with the company and also still the oldest (depend on your sight)"
   ]
  },
  {
   "cell_type": "markdown",
   "metadata": {},
   "source": [
    "## 5.b.Products"
   ]
  },
  {
   "cell_type": "markdown",
   "metadata": {},
   "source": [
    "### K-Means"
   ]
  },
  {
   "cell_type": "code",
   "execution_count": 198,
   "metadata": {},
   "outputs": [
    {
     "data": {
      "text/plain": [
       "<AxesSubplot:xlabel='Kmeans', ylabel='grocery'>"
      ]
     },
     "execution_count": 198,
     "metadata": {},
     "output_type": "execute_result"
    },
    {
     "data": {
      "image/png": "[encoded data removed]",
      "text/plain": [
       "<Figure size 432x288 with 1 Axes>"
      ]
     },
     "metadata": {
      "needs_background": "light"
     },
     "output_type": "display_data"
    }
   ],
   "source": [
    "sns.boxplot(data=DATA, y=product[0],x='Kmeans')"
   ]
  },
  {
   "cell_type": "markdown",
   "metadata": {},
   "source": [
    "Here is the characteristics (i will try to link it with the previous analysis):\n",
    "- **Cluster 0**: It has the highest ammount spend on grocery (mean, fish, and fruits) probably because they has the highest income and has no burden both financially and children which perhaps indicate they has the time or lifestyle that support their shopping\n",
    "- **Cluster 1**: It has the lowest spent on grocery and perhaps because they still struggle financially and has children which also indicate that perhaps they has the lowest time and resources to do shopping\n",
    "- **Cluster 2**: It has the second highest spent on grocery but they perhaps not quite has the time to do the lifestyle for cook or consumption. And since it also has the highest PhD then perhaps they are busy and did not has any time to cook."
   ]
  },
  {
   "cell_type": "markdown",
   "metadata": {},
   "source": [
    "### Hierarchical Agglomerative Clustering"
   ]
  },
  {
   "cell_type": "code",
   "execution_count": 199,
   "metadata": {},
   "outputs": [
    {
     "data": {
      "text/plain": [
       "<AxesSubplot:xlabel='Hierarchical', ylabel='grocery'>"
      ]
     },
     "execution_count": 199,
     "metadata": {},
     "output_type": "execute_result"
    },
    {
     "data": {
      "image/png": "[encoded data removed]",
      "text/plain": [
       "<Figure size 432x288 with 1 Axes>"
      ]
     },
     "metadata": {
      "needs_background": "light"
     },
     "output_type": "display_data"
    }
   ],
   "source": [
    "sns.boxplot(data=DATA, y=product[0],x='Hierarchical')"
   ]
  },
  {
   "cell_type": "markdown",
   "metadata": {},
   "source": [
    "It literally is identical to the K-Means"
   ]
  },
  {
   "cell_type": "markdown",
   "metadata": {},
   "source": [
    "## 5.c.Promotion"
   ]
  },
  {
   "cell_type": "markdown",
   "metadata": {},
   "source": [
    "### K-Means"
   ]
  },
  {
   "cell_type": "code",
   "execution_count": 201,
   "metadata": {},
   "outputs": [],
   "source": [
    "pivot=DATA.groupby(['Kmeans',promo[0]]).size().unstack().fillna(0)\n",
    "pivot_percent=pivot.divide(pivot.sum(axis=1),axis=0)"
   ]
  },
  {
   "cell_type": "code",
   "execution_count": 206,
   "metadata": {},
   "outputs": [],
   "source": [
    "pivot2=DATA.groupby([promo[0],'Kmeans']).size().unstack().fillna(0)\n",
    "pivot_percent_2=pivot2.divide(pivot2.sum(axis=1),axis=0)"
   ]
  },
  {
   "cell_type": "code",
   "execution_count": 203,
   "metadata": {},
   "outputs": [],
   "source": [
    "pivot1=DATA.groupby(['Kmeans',promo[1]]).size().unstack().fillna(0)\n",
    "pivot_percent_1=pivot1.divide(pivot1.sum(axis=1),axis=0)"
   ]
  },
  {
   "cell_type": "code",
   "execution_count": 207,
   "metadata": {},
   "outputs": [],
   "source": [
    "pivot3=DATA.groupby([promo[1],'Kmeans']).size().unstack().fillna(0)\n",
    "pivot_percent_3=pivot3.divide(pivot3.sum(axis=1),axis=0)"
   ]
  },
  {
   "cell_type": "code",
   "execution_count": 212,
   "metadata": {},
   "outputs": [
    {
     "data": {
      "image/png": "[encoded data removed]",
      "text/plain": [
       "<Figure size 864x576 with 4 Axes>"
      ]
     },
     "metadata": {
      "needs_background": "light"
     },
     "output_type": "display_data"
    },
    {
     "data": {
      "text/plain": [
       "<AxesSubplot:xlabel='Kmeans', ylabel='NumDealsPurchases'>"
      ]
     },
     "execution_count": 212,
     "metadata": {},
     "output_type": "execute_result"
    },
    {
     "data": {
      "image/png": "[encoded data removed]",
      "text/plain": [
       "<Figure size 432x288 with 1 Axes>"
      ]
     },
     "metadata": {
      "needs_background": "light"
     },
     "output_type": "display_data"
    }
   ],
   "source": [
    "fig, axes = plt.subplots(2, 2,figsize=(12,8))\n",
    "plt.subplots_adjust(hspace=0.2) \n",
    "pivot_percent.plot(kind='bar',stacked=False,ax=axes[0,0])\n",
    "pivot_percent_1.plot(kind='bar',stacked=False,ax=axes[0,1])\n",
    "pivot_percent_2.plot(kind='barh',stacked=True,ax=axes[1,0])\n",
    "pivot_percent_3.plot(kind='barh',stacked=True,ax=axes[1,1])\n",
    "plt.show()\n",
    "sns.boxplot(data=DATA,y='NumDealsPurchases',x='Kmeans')"
   ]
  },
  {
   "cell_type": "markdown",
   "metadata": {},
   "source": [
    "Here is the characteristics:\n",
    "- **Cluster 0**: It does accept the most offer from the company from it's campaign but it also does the least one who purchase with discount. Here i see that perhaps there is less utilisation of offer (with the assumption that the offer is discount) or they do their discounted shopping at once. Additionally the few number of the purchase with discount could also mean that most of their purchase could be undiscounted products or high end product.\n",
    "- **Cluster 1**: It is the cluster that accept the least of offer and the second most in puchasing with discount. Those two combination mean that perhaps they are almost maximizing their offer. But it also suggest that they do their shopping quite often but perhaps not too much purchases which is logical since they quite has the burden. Together with their age it seems that they do not has quite the time to accept the offer.\n",
    "- **Cluster 2**: It is the one with the second most accepting of offer especially in the recent offer perhaps because this oldest group (by age and in touch) become more accustomed to the campaign. It is the one that mazimises the offer by doing the most purchases in discount perhaps to prepare for their teen's higher education and perhaps they also are quite busy and can only but small (perhaps) frequent purchases. "
   ]
  },
  {
   "cell_type": "markdown",
   "metadata": {},
   "source": [
    "### Hierarchical Agglomerative Clustering"
   ]
  },
  {
   "cell_type": "code",
   "execution_count": 213,
   "metadata": {},
   "outputs": [],
   "source": [
    "pivot=DATA.groupby(['Hierarchical',promo[0]]).size().unstack().fillna(0)\n",
    "pivot_percent=pivot.divide(pivot.sum(axis=1),axis=0)"
   ]
  },
  {
   "cell_type": "code",
   "execution_count": 214,
   "metadata": {},
   "outputs": [],
   "source": [
    "pivot2=DATA.groupby([promo[0],'Hierarchical']).size().unstack().fillna(0)\n",
    "pivot_percent_2=pivot2.divide(pivot2.sum(axis=1),axis=0)"
   ]
  },
  {
   "cell_type": "code",
   "execution_count": 215,
   "metadata": {},
   "outputs": [],
   "source": [
    "pivot1=DATA.groupby(['Hierarchical',promo[1]]).size().unstack().fillna(0)\n",
    "pivot_percent_1=pivot1.divide(pivot1.sum(axis=1),axis=0)"
   ]
  },
  {
   "cell_type": "code",
   "execution_count": 216,
   "metadata": {},
   "outputs": [],
   "source": [
    "pivot3=DATA.groupby([promo[1],'Hierarchical']).size().unstack().fillna(0)\n",
    "pivot_percent_3=pivot3.divide(pivot3.sum(axis=1),axis=0)"
   ]
  },
  {
   "cell_type": "code",
   "execution_count": 217,
   "metadata": {},
   "outputs": [
    {
     "data": {
      "image/png": "[encoded data removed]",
      "text/plain": [
       "<Figure size 864x576 with 4 Axes>"
      ]
     },
     "metadata": {
      "needs_background": "light"
     },
     "output_type": "display_data"
    },
    {
     "data": {
      "text/plain": [
       "<AxesSubplot:xlabel='Hierarchical', ylabel='NumDealsPurchases'>"
      ]
     },
     "execution_count": 217,
     "metadata": {},
     "output_type": "execute_result"
    },
    {
     "data": {
      "image/png": "[encoded data removed]",
      "text/plain": [
       "<Figure size 432x288 with 1 Axes>"
      ]
     },
     "metadata": {
      "needs_background": "light"
     },
     "output_type": "display_data"
    }
   ],
   "source": [
    "fig, axes = plt.subplots(2, 2,figsize=(12,8))\n",
    "plt.subplots_adjust(hspace=0.2) \n",
    "pivot_percent.plot(kind='bar',stacked=False,ax=axes[0,0])\n",
    "pivot_percent_1.plot(kind='bar',stacked=False,ax=axes[0,1])\n",
    "pivot_percent_2.plot(kind='barh',stacked=True,ax=axes[1,0])\n",
    "pivot_percent_3.plot(kind='barh',stacked=True,ax=axes[1,1])\n",
    "plt.show()\n",
    "sns.boxplot(data=DATA,y='NumDealsPurchases',x='Hierarchical')"
   ]
  },
  {
   "cell_type": "markdown",
   "metadata": {},
   "source": [
    "The characteristics does show that they are the same with K-Means. But the dendogram below show why the cluster 1 and 2 is frequent purchases with deals because they are much closely related (green and red one)."
   ]
  },
  {
   "cell_type": "code",
   "execution_count": 218,
   "metadata": {},
   "outputs": [
    {
     "data": {
      "image/png": "[encoded data removed]",
      "text/plain": [
       "<Figure size 432x288 with 1 Axes>"
      ]
     },
     "metadata": {
      "needs_background": "light"
     },
     "output_type": "display_data"
    }
   ],
   "source": [
    "Z = sch.linkage(df, method='ward')\n",
    "\n",
    "dendrogram = sch.dendrogram(Z, truncate_mode='level', p=5)\n",
    "plt.xlabel('Data Points')\n",
    "plt.ylabel('Distance')\n",
    "plt.title('Dendrogram')\n",
    "plt.show()"
   ]
  },
  {
   "cell_type": "markdown",
   "metadata": {},
   "source": [
    "## 5.d.Place"
   ]
  },
  {
   "cell_type": "markdown",
   "metadata": {},
   "source": [
    "### K-Means"
   ]
  },
  {
   "cell_type": "code",
   "execution_count": 225,
   "metadata": {},
   "outputs": [
    {
     "data": {
      "image/png": "[encoded data removed]",
      "text/plain": [
       "<Figure size 864x576 with 4 Axes>"
      ]
     },
     "metadata": {
      "needs_background": "light"
     },
     "output_type": "display_data"
    }
   ],
   "source": [
    "row=2\n",
    "col=2\n",
    "fig, axes = plt.subplots(row, col,figsize=(12,8))\n",
    "plt.subplots_adjust(hspace=0.2) \n",
    "for i in range(row):\n",
    "    for j in range(col):\n",
    "        sns.boxplot(data=DATA, y=place[i*col+j],x='Kmeans',ax=axes[i,j])\n",
    "plt.show()"
   ]
  },
  {
   "cell_type": "markdown",
   "metadata": {},
   "source": [
    "Here is the characteristics of each cluster:\n",
    "- **Cluster 0**: It has the most store and catalogue purchases. So they are more old fashioned perhaps because they are rich and has the time. It also has the least web visits per month. This suggest that most offer they get come from those sources perhaps and explain part of why they has least number of deal purchases is because they do not use web which is not addicting or compelling than store or catalogue. \n",
    "- **Cluster 1**: It has the lowest purchase in any place but they has the most web visit probably because searching for suitable offer which also explained why they also has frequent purchases. Most of their purchases come from web and store. They are likely to shop when there are suitable offers and since they also has kid they are quite frequent on shopping.\n",
    "- **Cluster 2**: It has the second most web visit but most of them are probably for effective purchases. They are also quite balanced between web and store. Linked with the offer, i could see why despite only has the second accepting offer, they has the highest deal purchases is because they has the financial resources and they also has quite presence in the web purchases that also confirm that perhaps they are busy because they are working or others while need to take care their children (why has frequent purchases). "
   ]
  },
  {
   "cell_type": "markdown",
   "metadata": {},
   "source": [
    "### Hierarchical Agglomerative Clustering"
   ]
  },
  {
   "cell_type": "code",
   "execution_count": 226,
   "metadata": {},
   "outputs": [
    {
     "data": {
      "image/png": "[encoded data removed]",
      "text/plain": [
       "<Figure size 864x576 with 4 Axes>"
      ]
     },
     "metadata": {
      "needs_background": "light"
     },
     "output_type": "display_data"
    }
   ],
   "source": [
    "row=2\n",
    "col=2\n",
    "fig, axes = plt.subplots(row, col,figsize=(12,8))\n",
    "plt.subplots_adjust(hspace=0.2) \n",
    "for i in range(row):\n",
    "    for j in range(col):\n",
    "        sns.boxplot(data=DATA, y=place[i*col+j],x='Hierarchical',ax=axes[i,j])\n",
    "plt.show()"
   ]
  },
  {
   "cell_type": "markdown",
   "metadata": {},
   "source": [
    "Literally is the same as the K-Means"
   ]
  },
  {
   "cell_type": "markdown",
   "metadata": {},
   "source": [
    "# 6.Conclusion and Strategy for Each Cluster"
   ]
  },
  {
   "cell_type": "markdown",
   "metadata": {},
   "source": [
    "## 6.a.Conclusion\n",
    "- **Cluster 0**: It is the second oldest, has the highest income, and has no children, with second highest educational level and quite a single population which means that they has more time and money to actually purchase the most in value for grocery. They has the most acceptance of offer but did not used maximally because probably their products is not discounted or higher quality. They are more old fashioned that but most of their products on store or catalogue with minimal web visit.\n",
    "- **Cluster 1**: It is the youngest but the most financially burdened (because has the most kids and lowest income) that has the lowest value for grocery purchase. This low value is because they are financially burdened which is why they despite did not quite active in accepting offer, use their suitable offer and discount in most of their shopping and they do frequent purchases because they also has kids. It has the most web visit not really used for purchases with their purchase conducted in web and store. this cluster also represented potential in future.\n",
    "- **Cluster 2**: It is the oldest but has the middle in financial resources and burden (which could be vanished in near future). This cluster maximizes offer perhaps because they need to save for teen's high education or other by actually do frequent discount purchases and also second most in accepting offer (perhaps because has more resources). Their many deal purchases is perhaps testament on their huge visit to web for purchase (which usually are more addicting) and also their financial resources which are plentier than 1 to has more offer that is suitable."
   ]
  },
  {
   "cell_type": "markdown",
   "metadata": {},
   "source": [
    "## 6.b.Strategy for Each Cluster\n",
    "Anyway the K-Means and Hierarchical clustering is the same anyway\n",
    "\n",
    "Here is the name i think for the cluster:\n",
    "- cluster 0: high value-old fashioned \n",
    "- cluster 1: value customer-family heavy but huge potential\n",
    "- Cluster 2: medium value-maximizes offer and digitally active\n",
    "\n",
    "Here is the strategy i think of:\n",
    "- Cluster 0\n",
    "    * Objective: retain the customer by providing exclusivity and quite personalised service and direct them to higher margin product\n",
    "    * Promotion: Using staff in store or exclusive offer from the company which is delivered to them using catlog or though staff in store\n",
    "    * Place: Make the store and catalogue to their taste and perhaps give them assistant when they are in store to help them when shopping\n",
    "    * Product: Direct them to 'higher' quality produce or offer them something that usually not in store as personal services for their value\n",
    "     \n",
    "- Cluster 1\n",
    "    * Objective: increase grocery value and engagement with them through web as well as provide better services for web purchases\n",
    "    * Promotion: Give attractive promotion in web and also the promo could also lead them to good product and also benefits being given for web order\n",
    "    * Place: Focused in web with store also need to be designed to make them buy higher value product\n",
    "    * Product: Just focusing on retaining the current quality but if can upgrade them, focus in quantity could also be done\n",
    "    \n",
    "- Cluster 2\n",
    "    * Objective: Retain customer with also providing realistic services for credit in this segment to stimulate growth and cultivate loyalty\n",
    "    * Promotion: Get promo in web with value product and family oriented\n",
    "    * Place: focuses on websites with tailored value offer and if possible do it at the same time\n",
    "    * Product: Value product"
   ]
  },
  {
   "cell_type": "markdown",
   "metadata": {},
   "source": [
    "# 7.Recommendation for Future Work\n",
    "Here is my reccomendation for future steps:\n",
    "1. I Hope that the data could provide better context especially in terms of what they offer in campaign. Having gender data and number of processed food being sold is also gonna make greater insight to the lifestyle of the customer\n",
    "2. The Kidhome and Teenhome could be merge as one variable to give general context of the cluster characteristics\n",
    "3. Get better method for tuning hyperparameter perhaps with Gap Statistucs to ensure that there is no model wasted\n",
    "4. try to use k-Prototypes Algorithm as it is very suitable for mized data like this that could perhpas share different result as there is no need to encode categorical variable"
   ]
  }
 ],
 "metadata": {
  "kernelspec": {
   "display_name": "Python 3",
   "language": "python",
   "name": "python3"
  },
  "language_info": {
   "codemirror_mode": {
    "name": "ipython",
    "version": 3
   },
   "file_extension": ".py",
   "mimetype": "text/x-python",
   "name": "python",
   "nbconvert_exporter": "python",
   "pygments_lexer": "ipython3",
   "version": "3.8.5"
  }
 },
 "nbformat": 4,
 "nbformat_minor": 4
}
